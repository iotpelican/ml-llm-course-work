{
  "nbformat": 4,
  "nbformat_minor": 0,
  "metadata": {
    "colab": {
      "provenance": [],
      "include_colab_link": true
    },
    "kernelspec": {
      "name": "python3",
      "display_name": "Python 3"
    },
    "language_info": {
      "name": "python"
    }
  },
  "cells": [
    {
      "cell_type": "markdown",
      "metadata": {
        "id": "view-in-github",
        "colab_type": "text"
      },
      "source": [
        "<a href=\"https://colab.research.google.com/github/iotpelican/ml-llm-course-work/blob/main/dima-notebook2.ipynb\" target=\"_parent\"><img src=\"https://colab.research.google.com/assets/colab-badge.svg\" alt=\"Open In Colab\"/></a>"
      ]
    },
    {
      "cell_type": "code",
      "execution_count": null,
      "metadata": {
        "id": "4Gl-e7ArcfgG"
      },
      "outputs": [],
      "source": [
        "from openai import OpenAI"
      ]
    },
    {
      "cell_type": "code",
      "source": [
        "from google.colab import userdata"
      ],
      "metadata": {
        "id": "0bEjJDChcj5E"
      },
      "execution_count": null,
      "outputs": []
    },
    {
      "cell_type": "code",
      "source": [
        "client = OpenAI(api_key=userdata.get('OPENAI_API_KEY'))"
      ],
      "metadata": {
        "id": "8Ta8lYX3cqdz"
      },
      "execution_count": null,
      "outputs": []
    },
    {
      "cell_type": "code",
      "source": [
        "response = client.responses.create(\n",
        "    model=\"gpt-4.1\",\n",
        "    input=\"Tell me a joke about humanoid robots in California. Make it very-very funny!\"\n",
        ")"
      ],
      "metadata": {
        "id": "qDqAT4nxdAvO"
      },
      "execution_count": null,
      "outputs": []
    },
    {
      "cell_type": "code",
      "source": [
        "response.id"
      ],
      "metadata": {
        "colab": {
          "base_uri": "https://localhost:8080/",
          "height": 35
        },
        "id": "V8Fua7BPdx4-",
        "outputId": "1c7e77b3-91a0-4a86-d6db-a67d8d3f6bfb"
      },
      "execution_count": null,
      "outputs": [
        {
          "output_type": "execute_result",
          "data": {
            "text/plain": [
              "'resp_687c05c0f62c8198831b15adbcdc18a20742a3c261530058'"
            ],
            "application/vnd.google.colaboratory.intrinsic+json": {
              "type": "string"
            }
          },
          "metadata": {},
          "execution_count": 14
        }
      ]
    },
    {
      "cell_type": "code",
      "source": [
        "print(response.output_text)"
      ],
      "metadata": {
        "colab": {
          "base_uri": "https://localhost:8080/"
        },
        "id": "hDv1bWEIdebO",
        "outputId": "6b65a788-cefd-4bfa-c962-13dce2d7101e"
      },
      "execution_count": null,
      "outputs": [
        {
          "output_type": "stream",
          "name": "stdout",
          "text": [
            "Why did the humanoid robot move to California?\n",
            "\n",
            "Because it heard that’s where people go to get rebooted, upgraded, and still end up waiting in line for coffee along the humans!\n"
          ]
        }
      ]
    },
    {
      "cell_type": "code",
      "source": [
        "response2 = client.responses.create(\n",
        "    model=\"gpt-4.1\",\n",
        "    previous_response_id=response.id,\n",
        "    input=[{\"role\": \"user\", \"content\": \"I do not udnerstand the joke! Explain it to me!!!!!\"}],\n",
        ")"
      ],
      "metadata": {
        "id": "rxR1iBl0dh_K"
      },
      "execution_count": null,
      "outputs": []
    },
    {
      "cell_type": "code",
      "source": [
        "print(response2.output_text)"
      ],
      "metadata": {
        "colab": {
          "base_uri": "https://localhost:8080/"
        },
        "id": "qZwWkALmeIhb",
        "outputId": "90f50133-a37e-4b7b-89b9-e02ec9cbfa48"
      },
      "execution_count": null,
      "outputs": [
        {
          "output_type": "stream",
          "name": "stdout",
          "text": [
            "Of course! Here’s an explanation:\n",
            "\n",
            "- **“Rebooted” and “upgraded”** are things you’d do to a robot, just like humans go to California to “start fresh” or “improve” their lives.\n",
            "- **Waiting in line for coffee** is a funny nod to California culture—lots of people there love their coffee shops, and long lines for trendy drinks are a running joke.\n",
            "\n",
            "So, the joke is: Even though the robot does all these technical, futuristic things (like rebooting and upgrading in a techie place like California), it still ends up doing something super ordinary and very “human”—waiting for coffee in a long line, just like everyone else!\n",
            "\n",
            "It’s funny because the robot tries to be advanced, but ends up experiencing the same little frustrations we all do.\n"
          ]
        }
      ]
    },
    {
      "cell_type": "code",
      "source": [
        "response = client.responses.create(\n",
        "    model=\"gpt-4.1\",\n",
        "    input=[\n",
        "        {\"role\": \"user\", \"content\": \"What is this image about?\"},\n",
        "        {\n",
        "            \"role\": \"user\",\n",
        "            \"content\": [\n",
        "                {\n",
        "                    \"type\": \"input_image\",\n",
        "                    \"image_url\": \"https://i.imgur.com/uw6RD8M.png\"\n",
        "                }\n",
        "            ]\n",
        "        }\n",
        "    ]\n",
        ")"
      ],
      "metadata": {
        "id": "2taZd6TGeLaU"
      },
      "execution_count": null,
      "outputs": []
    },
    {
      "cell_type": "code",
      "source": [
        "response.output_text"
      ],
      "metadata": {
        "colab": {
          "base_uri": "https://localhost:8080/",
          "height": 104
        },
        "id": "BrJyMK-5et67",
        "outputId": "0ab5bafa-080a-44f9-d3f0-657ab53a26d9"
      },
      "execution_count": null,
      "outputs": [
        {
          "output_type": "execute_result",
          "data": {
            "text/plain": [
              "'This image is a promotional banner for an MIT course titled **MIT 6.S191: Introduction to Deep Learning**. \\n\\n- It mentions that this is MIT’s introductory program on deep learning methods, with applications in **computer vision** and other areas.\\n- The background features a distinctive, modern-looking building, possibly an MIT campus landmark.\\n- There is a video thumbnail with two people (a man and a woman) giving a lecture or presentation, along with the MIT logo.\\n- The text highlights the focus on deep learning and its applications.\\n\\nOverall, the image is advertising an MIT educational offering related to deep learning and artificial intelligence.'"
            ],
            "application/vnd.google.colaboratory.intrinsic+json": {
              "type": "string"
            }
          },
          "metadata": {},
          "execution_count": 18
        }
      ]
    },
    {
      "cell_type": "code",
      "source": [
        "follow_up = client.responses.create(\n",
        "    model=\"gpt-4.1\",\n",
        "    tools=[{\"type\": \"web_search\"}],\n",
        "    previous_response_id=response.id,\n",
        "    input=[{\"role\": \"user\", \"content\": \"Can you tell me who are these two instructors?\"}]\n",
        ")"
      ],
      "metadata": {
        "id": "Jvhe0TEIe5xj"
      },
      "execution_count": null,
      "outputs": []
    },
    {
      "cell_type": "code",
      "source": [
        "follow_up.output_text"
      ],
      "metadata": {
        "id": "FZwyySfBgglq",
        "outputId": "071b3c93-f2c1-47c6-fa1d-ad49e79adf81",
        "colab": {
          "base_uri": "https://localhost:8080/",
          "height": 104
        }
      },
      "execution_count": null,
      "outputs": [
        {
          "output_type": "execute_result",
          "data": {
            "text/plain": [
              "\"The instructors for MIT's 6.S191: Introduction to Deep Learning course are **Alexander Amini** and **Ava Amini**. They have been leading and organizing this course for several years, developing the curriculum, teaching lectures, designing software labs, and managing sponsorships from industry partners. ([introtodeeplearning.com](https://introtodeeplearning.com/index.html?utm_source=openai))\\n\\nIn previous editions, **Ava Soleimany** also served as a lead instructor and organizer for the course. ([introtodeeplearning.com](https://introtodeeplearning.com/2022/?utm_source=openai)) \""
            ],
            "application/vnd.google.colaboratory.intrinsic+json": {
              "type": "string"
            }
          },
          "metadata": {},
          "execution_count": 20
        }
      ]
    },
    {
      "cell_type": "code",
      "source": [],
      "metadata": {
        "id": "vA_WwPM1gjuw"
      },
      "execution_count": null,
      "outputs": []
    }
  ]
}