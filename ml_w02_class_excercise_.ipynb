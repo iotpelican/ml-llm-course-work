{
  "nbformat": 4,
  "nbformat_minor": 0,
  "metadata": {
    "colab": {
      "provenance": [],
      "authorship_tag": "ABX9TyPCHmpMJ991gj3wib7U1+JV",
      "include_colab_link": true
    },
    "kernelspec": {
      "name": "python3",
      "display_name": "Python 3"
    },
    "language_info": {
      "name": "python"
    }
  },
  "cells": [
    {
      "cell_type": "markdown",
      "metadata": {
        "id": "view-in-github",
        "colab_type": "text"
      },
      "source": [
        "<a href=\"https://colab.research.google.com/github/iotpelican/ml-llm-course-work/blob/main/ml_w02_class_excercise_.ipynb\" target=\"_parent\"><img src=\"https://colab.research.google.com/assets/colab-badge.svg\" alt=\"Open In Colab\"/></a>"
      ]
    },
    {
      "cell_type": "markdown",
      "source": [
        "**Part 1: Age Data Binning**\n",
        "\n",
        "Generate random age data for 100 samples and perform binning to categorize\n",
        "ages into different groups (e.g., 0-18, 19-35, 36-50, 51+)."
      ],
      "metadata": {
        "id": "I_EPWO_e9vza"
      }
    },
    {
      "cell_type": "code",
      "source": [
        "import numpy as np\n",
        "import pandas as pd\n",
        "\n",
        "# 1. Generate random age data for 100 samples\n",
        "np.random.seed(42) # for reproducibility\n",
        "ages = np.random.randint(0, 91, 100) # Ages from 0 to 90\n",
        "\n",
        "# Create a DataFrame for the ages\n",
        "age_df = pd.DataFrame({'Age': ages})\n",
        "\n",
        "# 2. Define the age bins and labels\n",
        "bins = [0, 18, 35, 50, np.inf] # np.inf for the upper bound of the last bin\n",
        "labels = ['0-18', '19-35', '36-50', '51+']\n",
        "\n",
        "# 3. Perform binning to categorize ages\n",
        "age_df['Age_Category'] = pd.cut(age_df['Age'], bins=bins, labels=labels, right=True, include_lowest=True)\n",
        "\n",
        "# 4. Display the distribution of ages within these bins\n",
        "print(\"Distribution of Ages by Category:\\n\")\n",
        "print(age_df['Age_Category'].value_counts().sort_index().to_markdown(numalign=\"left\", stralign=\"left\"))\n",
        "\n",
        "# Display the first few rows of the DataFrame with raw and binned ages\n",
        "print(\"\\nFirst 10 rows of the generated age data with categories:\\n\")\n",
        "print(age_df.head(10).to_markdown(index=False, numalign=\"left\", stralign=\"left\"))"
      ],
      "metadata": {
        "colab": {
          "base_uri": "https://localhost:8080/"
        },
        "id": "ekuwq82P93Ui",
        "outputId": "18157bbf-81f2-4355-8b6d-618485146877"
      },
      "execution_count": 1,
      "outputs": [
        {
          "output_type": "stream",
          "name": "stdout",
          "text": [
            "Distribution of Ages by Category:\n",
            "\n",
            "| Age_Category   | count   |\n",
            "|:---------------|:--------|\n",
            "| 0-18           | 21      |\n",
            "| 19-35          | 14      |\n",
            "| 36-50          | 15      |\n",
            "| 51+            | 50      |\n",
            "\n",
            "First 10 rows of the generated age data with categories:\n",
            "\n",
            "| Age   | Age_Category   |\n",
            "|:------|:---------------|\n",
            "| 51    | 51+            |\n",
            "| 14    | 0-18           |\n",
            "| 71    | 51+            |\n",
            "| 60    | 51+            |\n",
            "| 20    | 19-35          |\n",
            "| 82    | 51+            |\n",
            "| 86    | 51+            |\n",
            "| 74    | 51+            |\n",
            "| 74    | 51+            |\n",
            "| 87    | 51+            |\n"
          ]
        }
      ]
    },
    {
      "cell_type": "markdown",
      "source": [
        "**Part 2: Generate Random Data and Create Plots**\n",
        "\n",
        "Create a dataset with 100 random samples and generate four different plots:\n",
        "scatter plot, pie chart, histogram, and box plot.\n",
        "\n",
        "Tools: numpy, pandas, matplotlib"
      ],
      "metadata": {
        "id": "6M6qkPLZAEvS"
      }
    },
    {
      "cell_type": "code",
      "source": [
        "import numpy as np\n",
        "import pandas as pd\n",
        "import matplotlib.pyplot as plt\n",
        "import seaborn as sns\n",
        "\n",
        "# 1. Create a dataset with 100 random samples\n",
        "np.random.seed(42) # for reproducibility\n",
        "\n",
        "data = {\n",
        "    'Feature_X': np.random.randint(0, 101, 100),\n",
        "    'Feature_Y': np.random.randint(0, 101, 100),\n",
        "    'Category': np.random.choice(['A', 'B', 'C', 'D'], 100),\n",
        "    'Value_for_Histogram': np.random.normal(loc=50, scale=15, size=100) # Normal distribution around 50\n",
        "}\n",
        "df_random = pd.DataFrame(data)\n",
        "\n",
        "print(\"First 5 rows of the generated random dataset:\")\n",
        "print(df_random.head().to_markdown(index=False, numalign=\"left\", stralign=\"left\"))\n",
        "\n",
        "# Set Seaborn style for better aesthetics\n",
        "sns.set_style(\"whitegrid\")\n",
        "\n",
        "# 2. Generate Scatter Plot\n",
        "plt.figure(figsize=(8, 6))\n",
        "sns.scatterplot(x='Feature_X', y='Feature_Y', data=df_random, hue='Category', palette='viridis')\n",
        "plt.title('Scatter Plot of Feature_X vs Feature_Y')\n",
        "plt.xlabel('Feature_X')\n",
        "plt.ylabel('Feature_Y')\n",
        "plt.grid(True)\n",
        "plt.savefig('scatter_plot.png')\n",
        "plt.close() # Close plot to free memory\n",
        "\n",
        "# 3. Generate Pie Chart\n",
        "plt.figure(figsize=(8, 8))\n",
        "category_counts = df_random['Category'].value_counts()\n",
        "plt.pie(category_counts, labels=category_counts.index, autopct='%1.1f%%', startangle=140, colors=sns.color_palette('pastel'))\n",
        "plt.title('Distribution of Categories')\n",
        "plt.axis('equal') # Equal aspect ratio ensures that pie is drawn as a circle.\n",
        "plt.savefig('pie_chart.png')\n",
        "plt.close()\n",
        "\n",
        "# 4. Generate Histogram\n",
        "plt.figure(figsize=(8, 6))\n",
        "sns.histplot(df_random['Value_for_Histogram'], bins=10, kde=True, color='skyblue')\n",
        "plt.title('Histogram of Value for Histogram')\n",
        "plt.xlabel('Value')\n",
        "plt.ylabel('Frequency')\n",
        "plt.grid(True)\n",
        "plt.savefig('histogram_plot.png')\n",
        "plt.close()\n",
        "\n",
        "# 5. Generate Box Plot\n",
        "plt.figure(figsize=(8, 6))\n",
        "sns.boxplot(x='Category', y='Value_for_Histogram', data=df_random, hue='Category', palette='coolwarm', legend=False)\n",
        "plt.title('Box Plot of Value_for_Histogram by Category')\n",
        "plt.xlabel('Category')\n",
        "plt.ylabel('Value_for_Histogram')\n",
        "plt.grid(True)\n",
        "plt.savefig('box_plot.png')\n",
        "plt.close()\n",
        "\n",
        "print(\"\\nGenerated scatter_plot.png, pie_chart.png, histogram_plot.png, and box_plot.png.\")"
      ],
      "metadata": {
        "colab": {
          "base_uri": "https://localhost:8080/"
        },
        "id": "hwWitApXA8Gr",
        "outputId": "fc74cb66-0507-45e0-d101-acc509bc6b37"
      },
      "execution_count": 3,
      "outputs": [
        {
          "output_type": "stream",
          "name": "stdout",
          "text": [
            "First 5 rows of the generated random dataset:\n",
            "| Feature_X   | Feature_Y   | Category   | Value_for_Histogram   |\n",
            "|:------------|:------------|:-----------|:----------------------|\n",
            "| 51          | 23          | C          | 38.2512               |\n",
            "| 92          | 25          | B          | 45.1691               |\n",
            "| 14          | 88          | D          | 62.2028               |\n",
            "| 71          | 59          | C          | 31.537                |\n",
            "| 60          | 40          | A          | 53.4119               |\n",
            "\n",
            "Generated scatter_plot.png, pie_chart.png, histogram_plot.png, and box_plot.png.\n"
          ]
        }
      ]
    }
  ]
}