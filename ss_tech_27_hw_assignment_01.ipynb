{
  "nbformat": 4,
  "nbformat_minor": 0,
  "metadata": {
    "colab": {
      "provenance": [],
      "authorship_tag": "ABX9TyOKOv+71yAdz0LBoim9HKn9",
      "include_colab_link": true
    },
    "kernelspec": {
      "name": "python3",
      "display_name": "Python 3"
    },
    "language_info": {
      "name": "python"
    }
  },
  "cells": [
    {
      "cell_type": "markdown",
      "metadata": {
        "id": "view-in-github",
        "colab_type": "text"
      },
      "source": [
        "<a href=\"https://colab.research.google.com/github/iotpelican/ml-llm-course-work/blob/main/ss_tech_27_hw_assignment_01.ipynb\" target=\"_parent\"><img src=\"https://colab.research.google.com/assets/colab-badge.svg\" alt=\"Open In Colab\"/></a>"
      ]
    },
    {
      "cell_type": "markdown",
      "source": [
        "Shiva Sawant Tech 27 ML Home work Assignment 01 7/14/25"
      ],
      "metadata": {
        "id": "flCNKuTz2WkH"
      }
    },
    {
      "cell_type": "code",
      "execution_count": null,
      "metadata": {
        "id": "hokrNW2T2Tse"
      },
      "outputs": [],
      "source": [
        "# prompt: import numpy and matplotlib.pyplot\n",
        "\n",
        "import numpy as np\n",
        "import matplotlib.pyplot as plt"
      ]
    },
    {
      "cell_type": "code",
      "source": [
        "# Define sample arrays using numpy and print them to verify what is being generated.\n",
        "\n",
        "A = np.array([2, 4, 6])\n",
        "#Above line creates a one-dimensional numpy array named A with the elements 2, 4, and 6.\n",
        "\n",
        "B = np.arange(2, 17).reshape(3, 5)\n",
        "#Above line first creates a numpy array using np.arange() that contains a sequence of numbers starting from 2 (inclusive) up to 17 (exclusive).\n",
        "#Then, reshape(3, 5) reshapes this one-dimensional array into a two-dimensional array (a matrix) with 3 rows and 5 columns.\n",
        "#This reshaped array is named B.\n",
        "\n",
        "C = np.ones((5, 6))\n",
        "# Above line creates a numpy array named C with dimensions 5x6 (5 rows and 6 columns)\n",
        "# All elements are initialized to the value 1.\n",
        "\n",
        "D = np.eye(5)\n",
        "# Above line creates a numpy identity matrix named D with dimensions 5x5.\n",
        "# An identity matrix is a square matrix with 1s on the main diagonal and 0s elsewhere.\n",
        "\n",
        "print(\"Array A: (with 3 preassigned elements)\")\n",
        "print(A)\n",
        "print(\"\\nArray B: (with 15 elements starting from 2, and reshaped into 3 row x 5 column matrix)\")\n",
        "print(B)\n",
        "print(\"\\nArray C: (with 5 rows and 6 columns initialized to ones)\")\n",
        "print(C)\n",
        "print(\"\\nArray D: (5x5 identity matrix, square matrix with 1s in Main diagonal and 0s elsewhere)\")\n",
        "print(D)"
      ],
      "metadata": {
        "colab": {
          "base_uri": "https://localhost:8080/"
        },
        "id": "bFCOy0un4J_l",
        "outputId": "28a6d8d5-f7ad-420a-c3ac-6d8a8617f401"
      },
      "execution_count": null,
      "outputs": [
        {
          "output_type": "stream",
          "name": "stdout",
          "text": [
            "Array A: (with 3 preassigned elements)\n",
            "[2 4 6]\n",
            "\n",
            "Array B: (with 15 elements starting from 2, and reshaped into 3 row x 5 column matrix)\n",
            "[[ 2  3  4  5  6]\n",
            " [ 7  8  9 10 11]\n",
            " [12 13 14 15 16]]\n",
            "\n",
            "Array C: (with 5 rows and 6 columns initialized to ones)\n",
            "[[1. 1. 1. 1. 1. 1.]\n",
            " [1. 1. 1. 1. 1. 1.]\n",
            " [1. 1. 1. 1. 1. 1.]\n",
            " [1. 1. 1. 1. 1. 1.]\n",
            " [1. 1. 1. 1. 1. 1.]]\n",
            "\n",
            "Array D: (5x5 identity matrix, square matrix with 1s in Main diagonal and 0s elsewhere)\n",
            "[[1. 0. 0. 0. 0.]\n",
            " [0. 1. 0. 0. 0.]\n",
            " [0. 0. 1. 0. 0.]\n",
            " [0. 0. 0. 1. 0.]\n",
            " [0. 0. 0. 0. 1.]]\n"
          ]
        }
      ]
    },
    {
      "cell_type": "markdown",
      "source": [
        "Assignement Part 1: Working with Matrices (20 points)\n",
        "\n",
        "Use NumPy functions to perform the following computations and display the results. Keep in mind that the * operator here refers to matrix multiplication (as commonly represented by dot notation in linear algebra). Ensure that the dimensions of the matrices are compatible before performing the operation. Print the results.\n",
        "\n",
        "1.\t5A + 2\n",
        "2.\tCompute the sum of each row in matrix B.\n",
        "   Hint: Use the appropriate NumPy sum function with axis=1 to sum across columns (i.e., row-wise).\n",
        "3.\tFor each column in matrix B, calculate the average.\n",
        "   Which column has the lowest mean value?\n",
        "4.\tNumber of elements of B greater than 5\n",
        "5.\tA * B\n",
        "6.\tC + 2C\n",
        "\n",
        "\n",
        "\n",
        "\n"
      ],
      "metadata": {
        "id": "KIgzsoXi_ZQw"
      }
    },
    {
      "cell_type": "code",
      "source": [
        "# Define sample matrices A, B, and C\n",
        "# with dimensions compatible for A * B (e.g., A is m x n, B is n x p)\n",
        "A = np.array([[1, 2, 3],\n",
        "              [4, 5, 6]]) # 2x3 matrix\n",
        "\n",
        "B = np.array([[7, 8],\n",
        "              [9, 10],\n",
        "              [11, 12]]) # 3x2 matrix\n",
        "\n",
        "C = np.array([[1, 2],\n",
        "              [3, 4]]) # 2x2 matrix\n",
        "\n",
        "print(\"Matrix A:\\n\", A)\n",
        "print(\"Matrix B:\\n\", B)\n",
        "print(\"Matrix C:\\n\", C)\n",
        "print(\"-\" * 30)\n",
        "\n",
        "# 1. Compute 5A + 2\n",
        "# NumPy automatically handles element-wise operations with scalars\n",
        "result_5A_plus_2 = 5 * A + 2\n",
        "print(\"1. Result of 5A + 2:\\n\", result_5A_plus_2)\n",
        "print(\"-\" * 30)\n",
        "\n",
        "# 2. Compute the sum of each row in matrix B\n",
        "# axis=1 sums across columns, resulting in row sums\n",
        "row_sums_B = np.sum(B, axis=1)\n",
        "print(\"2. Sum of each row in matrix B:\", row_sums_B)\n",
        "print(\"-\" * 30)\n",
        "\n",
        "# 3. For each column in matrix B, calculate the average. Which column has the lowest mean value?\n",
        "# axis=0 calculates the mean down the columns\n",
        "column_means_B = np.mean(B, axis=0)\n",
        "print(\"3. Average of each column in matrix B:\", column_means_B)\n",
        "\n",
        "# Find the column with the lowest mean value\n",
        "lowest_mean_column_index = np.argmin(column_means_B)\n",
        "print(f\"   Column with the lowest mean value in B is column {lowest_mean_column_index} (0-indexed).\")\n",
        "print(\"-\" * 30)\n",
        "\n",
        "# 4. Number of elements of B greater than 5\n",
        "# This creates a boolean array, and sum() counts the True values\n",
        "elements_greater_than_5_B = np.sum(B > 5)\n",
        "print(\"4. Number of elements in B greater than 5:\", elements_greater_than_5_B)\n",
        "print(\"-\" * 30)\n",
        "\n",
        "# 5. Compute A * B (matrix multiplication)\n",
        "# Use np.dot() or the @ operator for matrix multiplication\n",
        "try:\n",
        "    if A.shape[1] == B.shape[0]:\n",
        "        result_A_times_B = np.dot(A, B)\n",
        "        # Alternatively, using the @ operator (Python 3.5+):\n",
        "        # result_A_times_B = A @ B\n",
        "        print(\"5. Result of A * B (matrix multiplication):\\n\", result_A_times_B)\n",
        "    else:\n",
        "        print(f\"5. Cannot perform A * B. Dimensions are incompatible: A is {A.shape}, B is {B.shape}\")\n",
        "except ValueError as e:\n",
        "    print(f\"5. Error performing A * B: {e}\")\n",
        "print(\"-\" * 30)\n",
        "\n",
        "# 6. Compute C + 2C\n",
        "# NumPy handles element-wise operations directly\n",
        "result_C_plus_2C = C + 2 * C\n",
        "print(\"6. Result of C + 2C:\\n\", result_C_plus_2C)\n",
        "print(\"-\" * 30)"
      ],
      "metadata": {
        "colab": {
          "base_uri": "https://localhost:8080/"
        },
        "id": "d8m3IjGx_qMV",
        "outputId": "4f64cf77-63ac-4fdf-f692-54d3bdf24235"
      },
      "execution_count": null,
      "outputs": [
        {
          "output_type": "stream",
          "name": "stdout",
          "text": [
            "Matrix A:\n",
            " [[1 2 3]\n",
            " [4 5 6]]\n",
            "Matrix B:\n",
            " [[ 7  8]\n",
            " [ 9 10]\n",
            " [11 12]]\n",
            "Matrix C:\n",
            " [[1 2]\n",
            " [3 4]]\n",
            "------------------------------\n",
            "1. Result of 5A + 2:\n",
            " [[ 7 12 17]\n",
            " [22 27 32]]\n",
            "------------------------------\n",
            "2. Sum of each row in matrix B: [15 19 23]\n",
            "------------------------------\n",
            "3. Average of each column in matrix B: [ 9. 10.]\n",
            "   Column with the lowest mean value in B is column 0 (0-indexed).\n",
            "------------------------------\n",
            "4. Number of elements in B greater than 5: 6\n",
            "------------------------------\n",
            "5. Result of A * B (matrix multiplication):\n",
            " [[ 58  64]\n",
            " [139 154]]\n",
            "------------------------------\n",
            "6. Result of C + 2C:\n",
            " [[ 3  6]\n",
            " [ 9 12]]\n",
            "------------------------------\n"
          ]
        }
      ]
    },
    {
      "cell_type": "markdown",
      "source": [
        "Part 2: Modeling and Predictions (20 points)\n",
        "\n",
        "A model is a mathematical function that takes an input value x and produces a predicted output y^.\n",
        "\n",
        "Let's consider two possible models for this data:\n",
        "1.\tM1(x)=3x+2\n",
        "2.\tM2(x)=−0.5x+4\n",
        "\n",
        "Calculate the predictions of these models of M1 and M2 for the values in X. These predictions should be vectors with the same shape as Y. Then, plot the observed data points (X,Y) along with the prediction lines of both models on the same graph. Use plt.plot() to draw the prediction lines for both models. Note: All elements (data points and prediction lines) should appear on a single plot. Be sure to include axis labels, a title, and a legend to clearly distinguish the models."
      ],
      "metadata": {
        "id": "o_irzUEbFCEc"
      }
    },
    {
      "cell_type": "code",
      "source": [
        "# 1. Define sample input values X and observed output values Y\n",
        "# Create a range of x values for plotting the models to ensure smooth lines\n",
        "X = np.array([1, 2, 3, 4, 5, 6, 7, 8, 9, 10])\n",
        "Y = np.array([5, 8, 10, 15, 17, 20, 22, 25, 28, 30])\n",
        "\n",
        "# Create a more granular x range for plotting the model lines\n",
        "x_model = np.linspace(min(X), max(X), 100)\n",
        "\n",
        "# 2. Define the two models\n",
        "def M1(x):\n",
        "    return 3 * x + 2\n",
        "\n",
        "def M2(x):\n",
        "    return -0.5 * x + 4\n",
        "\n",
        "# 3. Calculate the predictions of these models for the values in x_model\n",
        "y_pred_M1 = M1(x_model)\n",
        "y_pred_M2 = M2(x_model)\n",
        "\n",
        "# Calculate predictions for observed X values to show where they fall\n",
        "y_pred_M1_observed = M1(X)\n",
        "y_pred_M2_observed = M2(X)\n",
        "\n",
        "# 4. Plot the observed data points (X,Y)\n",
        "plt.figure(figsize=(10, 6))\n",
        "plt.scatter(X, Y, color='blue', label='Observed Data (X, Y)')\n",
        "\n",
        "# 5. Plot the prediction lines for both models\n",
        "plt.plot(x_model, y_pred_M1, color='red', linestyle='-', label='Model M1: $M1(x) = 3x + 2$')\n",
        "plt.plot(x_model, y_pred_M2, color='green', linestyle='--', label='Model M2: $M2(x) = -0.5x + 4$')\n",
        "\n",
        "# 6. Add axis labels, a title, and a legend\n",
        "plt.xlabel('X (Input Value)')\n",
        "plt.ylabel('Y (Output Value)')\n",
        "plt.title('Observed Data and Model Predictions')\n",
        "plt.legend()\n",
        "plt.grid(True)\n",
        "plt.tight_layout()\n",
        "plt.savefig('model_predictions_plot.png')"
      ],
      "metadata": {
        "colab": {
          "base_uri": "https://localhost:8080/",
          "height": 607
        },
        "id": "HX5XmnvvFAvt",
        "outputId": "4052de5a-af3a-4b24-dffb-08de3665e7de"
      },
      "execution_count": null,
      "outputs": [
        {
          "output_type": "display_data",
          "data": {
            "text/plain": [
              "<Figure size 1000x600 with 1 Axes>"
            ],
            "image/png": "[encoded data removed]"
          },
          "metadata": {}
        }
      ]
    },
    {
      "cell_type": "markdown",
      "source": [
        "Part 3: Measuring Error Using Mean Squared Error (20 points)\n",
        "\n",
        "Create a function that calculates the Mean Squared Error (MSE). Use this function to compute the MSE for the two models M1 and M2 introduced earlier."
      ],
      "metadata": {
        "id": "UnyVIuVsGKhD"
      }
    },
    {
      "cell_type": "code",
      "source": [
        "# Define sample input values X and observed output values Y\n",
        "# These are the same X and Y used in the plotting exercise.\n",
        "X = np.array([1, 2, 3, 4, 5, 6, 7, 8, 9, 10])\n",
        "Y = np.array([5, 8, 10, 15, 17, 20, 22, 25, 28, 30])\n",
        "\n",
        "# Define the two models (re-using from previous turns)\n",
        "def M1(x):\n",
        "    return 3 * x + 2\n",
        "\n",
        "def M2(x):\n",
        "    return -0.5 * x + 4\n",
        "\n",
        "def calculate_mse(observed_Y, predicted_Y):\n",
        "    \"\"\"\n",
        "    Calculates the Mean Squared Error (MSE) between observed and predicted values.\n",
        "\n",
        "    Args:\n",
        "        observed_Y (numpy.ndarray): Array of observed actual values.\n",
        "        predicted_Y (numpy.ndarray): Array of predicted values from a model.\n",
        "\n",
        "    Returns:\n",
        "        float: The Mean Squared Error.\n",
        "    \"\"\"\n",
        "    # Ensure the input arrays have the same shape\n",
        "    if observed_Y.shape != predicted_Y.shape:\n",
        "        raise ValueError(\"Observed and predicted Y arrays must have the same shape.\")\n",
        "\n",
        "    # Calculate the squared differences\n",
        "    squared_differences = (observed_Y - predicted_Y) ** 2\n",
        "\n",
        "    # Calculate the mean of the squared differences\n",
        "    mse = np.mean(squared_differences)\n",
        "    return mse\n",
        "\n",
        "# Calculate predictions for M1 and M2 using the actual X values\n",
        "predictions_M1 = M1(X)\n",
        "predictions_M2 = M2(X)\n",
        "\n",
        "# Compute MSE for M1\n",
        "mse_M1 = calculate_mse(Y, predictions_M1)\n",
        "print(f\"Mean Squared Error for Model M1: {mse_M1:.2f}\")\n",
        "\n",
        "# Compute MSE for M2\n",
        "mse_M2 = calculate_mse(Y, predictions_M2)\n",
        "print(f\"Mean Squared Error for Model M2: {mse_M2:.2f}\")"
      ],
      "metadata": {
        "colab": {
          "base_uri": "https://localhost:8080/"
        },
        "id": "08iVtleFGp7L",
        "outputId": "8673383b-2f2a-4fc8-d4df-fb61e32f1aad"
      },
      "execution_count": null,
      "outputs": [
        {
          "output_type": "stream",
          "name": "stdout",
          "text": [
            "Mean Squared Error for Model M1: 0.90\n",
            "Mean Squared Error for Model M2: 371.43\n"
          ]
        }
      ]
    },
    {
      "cell_type": "markdown",
      "source": [
        "Part 4: Testing Model Generality (20 points)\n",
        "\n",
        "Do you expect model M3 to perform better than M2 when predicting labels for new, unseen inputs? Discuss the potential advantages and disadvantages of using a more complex model like M3.\n"
      ],
      "metadata": {
        "id": "6_IWLKJZIdI6"
      }
    },
    {
      "cell_type": "markdown",
      "source": [
        "Answer for Part 4:\n",
        "\n",
        "Based on the code provided for Model M3, it is an 8th-degree polynomial fitted to the (X, Y) data. Let's compare its expected performance with M2 and discuss the general advantages and disadvantages of using such a complex model.\n",
        "\n",
        "First, recall our previous findings:\n",
        "\n",
        "Model M1: M1(x)=3x+2 (linear) - MSE on training data: 0.90\n",
        "\n",
        "Model M2: M2(x)=−0.5x+4 (linear) - MSE on training data: 371.43\n",
        "\n",
        "Now for Model M3:\n",
        "\n",
        "polynomial_model = np.poly1d(np.polyfit(X, Y, deg=8))\n",
        "\n",
        "An 8th-degree polynomial fitted to only 10 data points (as X has 10 elements) will essentially pass exactly through or extremely close to every single training data point. This means its Mean Squared Error (MSE) on the training data (X, Y) will be extremely low, potentially near zero.\n",
        "\n",
        "Expected Performance of M3 vs. M2 on New, Unseen Inputs\n",
        "I expect Model M3 to perform significantly worse than Model M1 and likely worse than Model M2 when predicting labels for new, unseen inputs, despite its potentially near-zero MSE on the training data.\n",
        "\n",
        "Here's why:\n",
        "\n",
        "M2's fundamental issue: Model M2 is a linear model with a completely wrong slope and intercept for the given data. Its high MSE (371.43) on the training data indicates it's a very poor fit even to the data it has seen. It suffers from high bias (it's systematically wrong).\n",
        "\n",
        "M3's fundamental issue: Overfitting: Model M3, being an 8th-degree polynomial fitted to only 10 data points, is a classic example of overfitting. It has learned the noise and specific eccentricities of the training data perfectly, rather than the true underlying simpler relationship (which seems to be well-captured by linear Model M1).\n",
        "\n",
        "When presented with new, unseen inputs, these specific noise patterns will not be present. The highly flexible polynomial will likely make wildly inaccurate predictions outside the range of the training data (extrapolation) and even potentially within the range if the new points don't precisely follow the learned \"noise\" from the training set. It suffers from high variance.\n",
        "\n",
        "M1's superiority: Model M1, a simple linear model, already achieved a very low MSE (0.90), suggesting that the underlying relationship in the data is predominantly linear. A simpler model that captures the true trend well will always generalize better than an overly complex one that simply memorizes the training data.\n",
        "\n",
        "In essence, while M2 is consistently bad due to its poor initial fit (high bias), M3's perfection on the training data comes at the cost of extreme fragility and unpredictability on unseen data (high variance). For unseen data, M3's predictions could be far more erratic and misleading than M2's, even though M2 is \"consistently wrong.\"\n",
        "\n",
        "Potential Advantages and Disadvantages of Using a More Complex Model like M3\n",
        "Advantages:\n",
        "\n",
        "Ability to Capture Complex Relationships: If the true underlying relationship between X and Y were genuinely a complex, non-linear function (e.g., an S-curve, multiple peaks and valleys), a more complex model like a high-degree polynomial would be necessary to capture that intricacy. Simpler models (like linear) would fail.\n",
        "\n",
        "Lower Bias on Training Data: Complex models generally have the capacity to fit the training data very closely, leading to very low training error (bias). As seen with M3, its training MSE would be near zero.\n",
        "\n",
        "Disadvantages:\n",
        "\n",
        "High Risk of Overfitting (Most Significant for M3): This is the primary drawback here. A complex model with too few data points or when applied to a fundamentally simpler relationship will memorize the training data, including its noise and random fluctuations. This leads to very poor performance on new, unseen data.\n",
        "\n",
        "Poor Generalization: Due to overfitting, complex models often do not generalize well to data outside of what they were trained on. They essentially \"fail to learn\" the broader patterns.\n",
        "\n",
        "Increased Computational Cost: Training and evaluating more complex models typically requires significantly more computational resources (time and memory) compared to simpler models.\n",
        "\n",
        "Lack of Interpretability: Simple models like linear regression are easy to interpret (e.g., \"Y increases by 3 units for every 1 unit increase in X\"). High-degree polynomials are much harder to interpret in a meaningful way, making it difficult to understand the underlying drivers of the predictions.\n",
        "\n",
        "Sensitivity to Outliers: Complex models can be highly sensitive to outliers in the training data, as they will try to fit every point, including anomalous ones, which can drastically warp the model's behavior.\n",
        "\n",
        "Requires More Data: To prevent overfitting and effectively learn complex patterns, more complex models typically require a significantly larger amount of diverse training data. With only 10 points, M3 is severely under-constrained for an 8th-degree polynomial.\n",
        "\n",
        "In conclusion, while complex models are powerful for genuinely complex relationships, their use must be justified by the nature of the data and sufficient training examples. In this scenario, M3 is likely a poor choice due to severe overfitting."
      ],
      "metadata": {
        "id": "Mn7e7o49LPu8"
      }
    },
    {
      "cell_type": "markdown",
      "source": [
        "Part 5: Model Complexity and Real-World Considerations (20 points)\n",
        "\n",
        "If we increase the degree of the polynomial model beyond 8, what do you expect will happen to the Mean Squared Error (MSE) and the model’s ability to generalize to new data? Justify your answer using intuition or experience with model complexity.\n",
        "\n",
        "Your answer:\n",
        "\n",
        "Suppose your data came from real-world sources such as sensors, user-generated content, or financial transactions. How might this noise affect your model’s behavior? Would your choice of model or preprocessing steps change?\n",
        "\n",
        "Your answer:\n",
        "\n",
        "MSE is commonly used for evaluating regression models. However, it may not always be the most appropriate metric. Provide a real-world scenario where MSE might be misleading. Suggest a more suitable evaluation metric for that case and explain why it would be a better choice.\n",
        "\n",
        "Your answer:"
      ],
      "metadata": {
        "id": "12LVovPGLxsL"
      }
    },
    {
      "cell_type": "markdown",
      "source": [
        "Answer part 5-section A:\n",
        "\n",
        "If we increase the degree of the polynomial model beyond 8 for the given 10 data points, here's what we would expect to happen:\n",
        "\n",
        "### 1. Mean Squared Error (MSE) on the Training Data\n",
        "\n",
        "The MSE on the *training data* (X, Y) will likely **remain extremely close to zero, or even become exactly zero**.\n",
        "\n",
        "**Justification:**\n",
        "With 10 data points, a polynomial of degree `N-1` (where `N` is the number of data points) can perfectly interpolate all the points. In our case, `N=10`, so a 9th-degree polynomial (`deg=9`) would be able to pass exactly through every single one of the 10 data points. If the polynomial passes through every point, the predicted value $\\hat{Y}_i$ will be identical to the observed value $Y_i$ for all training points. Consequently, the squared difference $(Y_i - \\hat{Y}_i)^2$ will be zero for every point, leading to an MSE of zero.\n",
        "\n",
        "Even an 8th-degree polynomial is already very flexible for 10 points, so its MSE on the training data would already be very small. Increasing the degree further simply provides the model with more \"flexibility\" to fit the data perfectly.\n",
        "\n",
        "### 2. Model's Ability to Generalize to New Data\n",
        "\n",
        "The model's ability to generalize to new, unseen data will **significantly worsen, becoming extremely poor and unreliable.**\n",
        "\n",
        "**Justification (Overfitting):**\n",
        "This phenomenon is a textbook example of **overfitting**.\n",
        "* **Memorization, Not Learning:** When a model fits the training data perfectly (or almost perfectly) by being excessively complex relative to the number of data points, it's essentially \"memorizing\" the training examples, including any random noise or minor fluctuations present in that specific dataset. It is not learning the true underlying, general relationship between X and Y.\n",
        "* **High Variance:** Such an overfitted model will have very high **variance**. This means that if you were to collect a slightly different set of 10 data points from the same underlying process, the specific 8th, 9th, or higher-degree polynomial fitted to that *new* training set would be drastically different.\n",
        "* **Poor Performance on Unseen Data:** When this overfitted model encounters new, unseen data points, those points will inevitably have different noise patterns and will likely not fall exactly on the highly convoluted curve that perfectly fit the original training data. The model will then make wildly inaccurate and unpredictable predictions, often extrapolating absurdly outside the range of the training data.\n",
        "\n",
        "In contrast, a simpler model (like M1, the linear model) that captures the underlying trend reasonably well but doesn't fit the noise will generalize much better because it has learned the fundamental relationship, not just memorized specific instances. Increasing complexity beyond what the true underlying process requires, especially with limited data, invariably leads to poor generalization."
      ],
      "metadata": {
        "id": "0l7y1mTKNMDu"
      }
    },
    {
      "cell_type": "markdown",
      "source": [
        "Part 5- section B:\n",
        "Suppose your data came from real-world sources such as sensors, user-generated content, or financial transactions. How might this noise affect your model’s behavior? Would your choice of model or preprocessing steps change?\n",
        "\n",
        "Your answer:"
      ],
      "metadata": {
        "id": "9esqCjUdNjb6"
      }
    },
    {
      "cell_type": "markdown",
      "source": [
        "Answer part 5-section B:\n",
        "\n",
        "Real-world data is almost always \"noisy.\" This noise can manifest in various ways:\n",
        "* **Random Errors:** Inaccuracies in sensor readings, human error in data entry.\n",
        "* **Outliers:** Extreme values that deviate significantly from the rest of the data (e.g., a single wrong digit in a financial transaction).\n",
        "* **Missing Values:** Gaps in data collection.\n",
        "* **Irrelevant Information:** Features that don't contribute to the underlying relationship but add complexity.\n",
        "* **Measurement Errors:** Systematic biases or imprecision in how data is collected.\n",
        "\n",
        "Let's discuss how this noise might affect model behavior and how our choices would change:\n",
        "\n",
        "### How Noise Might Affect Your Model's Behavior\n",
        "\n",
        "1.  **Impact on Simple Models (like M1 or M2):**\n",
        "    * **Higher Bias/Reduced Accuracy:** Even if the underlying relationship is truly linear, noise can obscure it. A simple linear model (like M1) might still capture the general trend, but its Mean Squared Error (MSE) would be higher than if the data were perfectly clean.\n",
        "    * **Robustness to Random Noise:** Simple models can sometimes be more robust to small amounts of purely random, unbiased noise, as they average out the noise due to their inherent simplicity. However, they struggle if the noise introduces a systematic bias or if outliers are present.\n",
        "\n",
        "2.  **Impact on Complex Models (like M3 - 8th-degree polynomial):**\n",
        "    * **Severe Overfitting:** This is the most critical impact. Complex models, especially those with many degrees of freedom like an 8th-degree polynomial on only 10 data points, will try to fit *every single data point*, including the noise. They will \"learn\" the random fluctuations and errors as if they were part of the true underlying signal.\n",
        "    * **Terrible Generalization:** An overfitted model will have an extremely low (or zero) MSE on the noisy training data because it has memorized it. However, when presented with *new, unseen data* (which will have different noise patterns), it will perform disastrously. Its predictions will be wild, erratic, and highly unreliable because it's trying to extrapolate based on the specific, random wiggles of the training noise.\n",
        "    * **Sensitivity to Outliers:** Complex models are highly susceptible to outliers. A single outlier could drastically warp the entire polynomial curve in an attempt to fit that single aberrant point, leading to wildly incorrect predictions elsewhere.\n",
        "\n",
        "### Would Your Choice of Model or Preprocessing Steps Change?\n",
        "\n",
        "**Yes, absolutely!** When dealing with real-world noisy data, the choice of model and, critically, the preprocessing steps would change significantly.\n",
        "\n",
        "#### 1. Changes in Model Choice:\n",
        "\n",
        "* **Prioritize Simpler Models or Regularized Complex Models:**\n",
        "    * **Favor Parsimony:** We would generally prefer simpler models (like M1, or even lower-degree polynomials if non-linearity is evident) as a starting point. They are less prone to overfitting noise.\n",
        "    * **Regularization:** If a more complex model (like a polynomial or a neural network) is deemed necessary because the true underlying relationship is genuinely complex, we would *always* incorporate **regularization techniques**.\n",
        "        * For polynomial regression, this would involve techniques like **Ridge (L2) regression** or **Lasso (L1) regression**. These methods add a penalty term to the model's loss function that discourages large coefficient values, effectively making the model \"smoother\" and less prone to fitting noise.\n",
        "    * **Ensemble Methods:** Techniques like Random Forests or Gradient Boosting Machines (GBM) can be more robust to noise and outliers as they combine predictions from multiple simpler models.\n",
        "\n",
        "* **Emphasis on Validation:** We would rely heavily on robust cross-validation techniques (e.g., k-fold cross-validation) to evaluate model performance on unseen data, rather than just the training MSE. A low training MSE with high variance in cross-validation would be a red flag for overfitting.\n",
        "\n",
        "#### 2. Changes in Preprocessing Steps:\n",
        "\n",
        "Preprocessing becomes paramount when dealing with noisy real-world data.\n",
        "\n",
        "* **Data Cleaning and Outlier Handling:**\n",
        "    * **Outlier Detection:** Use statistical methods (e.g., Z-scores, IQR), visualization (box plots, scatter plots), or domain knowledge to identify outliers.\n",
        "    * **Outlier Treatment:** Decide how to handle them:\n",
        "        * **Removal:** If they are clearly errors and few in number.\n",
        "        * **Transformation:** Apply logarithmic or square root transformations to reduce their impact.\n",
        "        * **Capping/Flooring:** Limit values within a reasonable range.\n",
        "        * **Robust Models:** Use models less sensitive to outliers (e.g., median regression instead of mean regression).\n",
        "* **Missing Value Imputation:**\n",
        "    * Identify missing data (NaNs).\n",
        "    * Choose appropriate imputation strategies: mean, median, mode, K-Nearest Neighbors (KNN) imputation, regression imputation, or even advanced techniques if patterns of missingness are complex.\n",
        "* **Data Smoothing/Filtering:**\n",
        "    * Apply techniques like moving averages, Savitzky-Golay filters, or low-pass filters to reduce high-frequency noise from time-series or sensor data before feeding it to the model.\n",
        "* **Feature Scaling/Normalization:**\n",
        "    * While less critical for linear regression's core math, it's good practice for many algorithms (e.g., those using gradient descent, distance-based algorithms like KNN, or regularization techniques). Scaling helps prevent features with larger ranges from dominating the learning process.\n",
        "* **Feature Engineering and Selection:**\n",
        "    * Carefully construct features that are robust to noise.\n",
        "    * Perform feature selection to remove irrelevant or highly noisy features that do not contribute to the predictive power but introduce noise.\n",
        "\n",
        "In summary, real-world noise demands a more cautious approach to model complexity, a strong emphasis on regularization to prevent overfitting, and extensive preprocessing to clean and prepare the data before modeling. Ignoring noise leads to models that are good at memorizing errors but terrible at making useful predictions on new data."
      ],
      "metadata": {
        "id": "EoesahS1N3eE"
      }
    },
    {
      "cell_type": "markdown",
      "source": [
        "Part 5- section C:\n",
        "\n",
        "MSE is commonly used for evaluating regression models. However, it may not always be the most appropriate metric. Provide a real-world scenario where MSE might be misleading. Suggest a more suitable evaluation metric for that case and explain why it would be a better choice.\n",
        "\n",
        "Your answer:"
      ],
      "metadata": {
        "id": "UT90-16nNs6N"
      }
    },
    {
      "cell_type": "markdown",
      "source": [
        "Answer part 5-section C:\n",
        "\n",
        "You're right to point out that MSE, despite its popularity, isn't always the best metric. Its sensitivity to large errors, due to the squaring of differences, can be a major disadvantage in certain real-world scenarios.\n",
        "\n",
        "### Real-World Scenario Where MSE Might Be Misleading: Predicting House Prices\n",
        "\n",
        "Imagine you are building a regression model to predict **house prices** in a diverse metropolitan area. Most houses fall within a certain price range (e.g., \\$300,000 to \\$700,000), but there are a few **luxury properties** (e.g., mansions, penthouses) that are priced significantly higher (e.g., \\$5,000,000 or even \\$10,000,000).\n",
        "\n",
        "Let's say your model makes the following predictions:\n",
        "* For a typical house: Actual price \\$400,000, Predicted price \\$410,000. Error = \\$10,000. Squared Error = \\$100,000,000.\n",
        "* For a luxury mansion (an outlier): Actual price \\$5,000,000, Predicted price \\$4,500,000. Error = -\\$500,000. Squared Error = \\$250,000,000,000.\n",
        "\n",
        "**Why MSE is misleading here:**\n",
        "\n",
        "* The single large error from the luxury mansion (\\$500,000) contributes an *enormously disproportionate* amount to the total MSE after squaring (\\$250 billion vs. \\$100 million).\n",
        "* Even if your model performs very well on 99% of the typical houses, a few large errors on these expensive outliers can **dominate the MSE**, making it appear very high. This high MSE might falsely suggest that your model is generally poor, when in reality, it's quite accurate for the majority of the data.\n",
        "* If the goal is to assess the average prediction accuracy for the *typical* housing market, the MSE will be skewed by these extreme values. Your model might be excellent at predicting mainstream prices but penalized heavily for minor mispredictions on outliers.\n",
        "\n",
        "### A More Suitable Evaluation Metric: Mean Absolute Error (MAE)\n",
        "\n",
        "A more suitable metric for this scenario would be the **Mean Absolute Error (MAE)**.\n",
        "\n",
        "**Formula:**\n",
        "$MAE = \\frac{1}{n} \\sum_{i=1}^{n} |Y_i - \\hat{Y}_i|$\n",
        "\n",
        "Where:\n",
        "* $Y_i$ is the actual value\n",
        "* $\\hat{Y}_i$ is the predicted value\n",
        "* $n$ is the number of observations\n",
        "\n",
        "**Why MAE is a better choice in this scenario:**\n",
        "\n",
        "1.  **Robustness to Outliers:** MAE measures the average of the *absolute differences* between predictions and actual values. It treats all errors linearly. This means that a large error (like the \\$500,000 error for the mansion) contributes to the total error in a direct, proportional way, rather than being exponentially magnified by squaring. It is less sensitive to extreme outliers.\n",
        "2.  **Better Interpretability:** MAE is in the same units as the target variable (e.g., dollars for house prices). An MAE of \\$15,000 directly tells you that, on average, your model's predictions are off by \\$15,000. MSE, on the other hand, is in \"dollars squared,\" which is harder to intuitively understand.\n",
        "3.  **Reflects Typical Performance:** In the house price example, MAE would give a better sense of how well the model performs on the *majority* of houses. If the MAE is low, it suggests the model is generally accurate, even if there are a few large errors due to very expensive properties.\n",
        "\n",
        "**When MSE is still preferred:**\n",
        "\n",
        "It's important to note that MSE (or RMSE, its square root) is still highly valuable when large errors are disproportionately undesirable or costly. For instance, in engineering where small errors might be tolerated but large errors could lead to catastrophic failure, MSE's penalty on large errors is precisely what you want. However, for a general understanding of prediction accuracy in the presence of outliers, MAE provides a more robust and interpretable measure."
      ],
      "metadata": {
        "id": "Fh0c0MEUOY9y"
      }
    },
    {
      "cell_type": "markdown",
      "source": [],
      "metadata": {
        "id": "dHJxN9pQN7yD"
      }
    }
  ]
}