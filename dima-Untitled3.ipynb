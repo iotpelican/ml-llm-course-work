{
  "nbformat": 4,
  "nbformat_minor": 0,
  "metadata": {
    "colab": {
      "provenance": [],
      "include_colab_link": true
    },
    "kernelspec": {
      "name": "python3",
      "display_name": "Python 3"
    },
    "language_info": {
      "name": "python"
    }
  },
  "cells": [
    {
      "cell_type": "markdown",
      "metadata": {
        "id": "view-in-github",
        "colab_type": "text"
      },
      "source": [
        "<a href=\"https://colab.research.google.com/github/iotpelican/ml-llm-course-work/blob/main/dima-Untitled3.ipynb\" target=\"_parent\"><img src=\"https://colab.research.google.com/assets/colab-badge.svg\" alt=\"Open In Colab\"/></a>"
      ]
    },
    {
      "cell_type": "code",
      "execution_count": null,
      "metadata": {
        "id": "yZ4S1j2i2lJZ"
      },
      "outputs": [],
      "source": [
        "from openai import OpenAI\n",
        "from google.colab import userdata\n",
        "client = OpenAI(api_key=userdata.get('OPENAI_API_KEY'))"
      ]
    },
    {
      "cell_type": "code",
      "source": [
        "message = \"If a tree absorbs 48 pounds of CO2 a year, how much CO2 will 10 trees absorb in a year?\""
      ],
      "metadata": {
        "id": "7AMcOQuq2se8"
      },
      "execution_count": null,
      "outputs": []
    },
    {
      "cell_type": "code",
      "source": [
        "message += \" Expand to all tree on the planet. \""
      ],
      "metadata": {
        "id": "ZqSBphQW27YY"
      },
      "execution_count": null,
      "outputs": []
    },
    {
      "cell_type": "code",
      "source": [
        "response_simple = client.responses.create(\n",
        "    model='gpt-4',\n",
        "    input=message\n",
        ")"
      ],
      "metadata": {
        "id": "K6FhGZrq2txY"
      },
      "execution_count": null,
      "outputs": []
    },
    {
      "cell_type": "code",
      "source": [
        "response_simple.output_text"
      ],
      "metadata": {
        "colab": {
          "base_uri": "https://localhost:8080/",
          "height": 87
        },
        "id": "3R0Oq0Yx2wyV",
        "outputId": "d620e8c0-efd4-449a-857a-c721f8693f18"
      },
      "execution_count": null,
      "outputs": [
        {
          "output_type": "execute_result",
          "data": {
            "text/plain": [
              "'If one tree absorbs 48 pounds of CO2 a year, 10 trees would absorb 480 pounds of CO2 in a year.\\n\\nEstimating the exact number of trees on the planet is challenging. However, according to a study by Yale University, there are approximately three trillion trees on Earth.\\n\\nTherefore, three trillion trees would absorb roughly 144 trillion pounds of CO2 in a year. This amount is enormous, indicating the critical role forests play in mitigating climate change by soaking up large amounts of greenhouse gases.'"
            ],
            "application/vnd.google.colaboratory.intrinsic+json": {
              "type": "string"
            }
          },
          "metadata": {},
          "execution_count": 8
        }
      ]
    },
    {
      "cell_type": "code",
      "source": [],
      "metadata": {
        "id": "HgknXKJJ22Ue"
      },
      "execution_count": null,
      "outputs": []
    }
  ]
}