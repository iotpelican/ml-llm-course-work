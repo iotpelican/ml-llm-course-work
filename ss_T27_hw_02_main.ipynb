{
  "nbformat": 4,
  "nbformat_minor": 0,
  "metadata": {
    "colab": {
      "provenance": [],
      "authorship_tag": "ABX9TyM5ZL5gct9m+XbIVzrwkzAf",
      "include_colab_link": true
    },
    "kernelspec": {
      "name": "python3",
      "display_name": "Python 3"
    },
    "language_info": {
      "name": "python"
    }
  },
  "cells": [
    {
      "cell_type": "markdown",
      "metadata": {
        "id": "view-in-github",
        "colab_type": "text"
      },
      "source": [
        "<a href=\"https://colab.research.google.com/github/iotpelican/ml-llm-course-work/blob/main/ss_T27_hw_02_main.ipynb\" target=\"_parent\"><img src=\"https://colab.research.google.com/assets/colab-badge.svg\" alt=\"Open In Colab\"/></a>"
      ]
    },
    {
      "cell_type": "markdown",
      "source": [
        "**Shiva Sawant Tech 27 ML Homework Main Assignment 02 Due 7/22/25**"
      ],
      "metadata": {
        "id": "WTCU_N0WdTDg"
      }
    },
    {
      "cell_type": "markdown",
      "source": [
        "**Part 1: Load and Explore the Dataset** (10)\n",
        "\n",
        "Upload the CSV file named adult.csv (also known as the Census Income dataset) from your local computer.\n",
        "\n",
        "After uploading, load the CSV file into a Pandas DataFrame called df using the\n",
        "pd.read_csv() function.\n",
        "1. Upload the file adult.csv to your working environment (e.g., JupyterLab or Google\n",
        "Colab).\n",
        "2. Load the CSV data into a DataFrame named df using pd.read_csv().\n",
        "3. Display the number of rows and columns in df using the .shape attribute.\n",
        "4. Display the first five rows of df using the .head() method."
      ],
      "metadata": {
        "id": "i5TN3GYIdsYA"
      }
    },
    {
      "cell_type": "code",
      "source": [
        "import pandas as pd\n",
        "\n",
        "# Step 1: Upload the file adult.csv\n",
        "# Do a manual upload of adult.csv in Colab from the file downloaded on PC from Canvas.\n",
        "# Steps:1a) click the folder icon on the left ->\n",
        "#       1b) \"Upload to session storage\" icon\n",
        "#       1c) select your 'adult.csv' file from your local computer downloads directory.\n",
        "print(\"\\nAnswer Part 1, step 1 : \\nIn Colab, 'adult.csv' file has been manually uploaded using the 'Files' icon on the left sidebar.\")\n",
        "\n",
        "# Step 2: Load the CSV data into a DataFrame named df\n",
        "# Step 1a-1c has brought 'adult.csv' in the current Colab session directory\n",
        "try:\n",
        "    df = pd.read_csv('adult.csv')\n",
        "    print(\"\\nAnswer Part 1, step 2 : \\nSuccessfully loaded 'adult.csv' into DataFrame 'df'.\")\n",
        "\n",
        "# Step 3: Display the number of rows and columns in df\n",
        "    print(\"\\nAnswer Part 1, step 3 : \\nShape of the DataFrame (rows, columns):\", df.shape)\n",
        "\n",
        "# Step 4: Display the first five rows of df ---\n",
        "    print(\"\\nAnswer Part 1, step 4 : \\nFirst five rows of the DataFrame:\")\n",
        "    print(df.head())\n",
        "\n",
        "except FileNotFoundError:\n",
        "    print(\"\\nError: 'adult.csv' not found. Please ensure the file is uploaded to the Colab session.\")\n",
        "except Exception as e:\n",
        "    print(f\"\\nAn error occurred: {e}\")"
      ],
      "metadata": {
        "colab": {
          "base_uri": "https://localhost:8080/"
        },
        "id": "goPUxnNkhQVf",
        "outputId": "fd8cb0a6-84ce-4e6e-faf9-11db357461eb"
      },
      "execution_count": 1,
      "outputs": [
        {
          "output_type": "stream",
          "name": "stdout",
          "text": [
            "\n",
            "Answer Part 1, step 1 : \n",
            "In Colab, 'adult.csv' file has been manually uploaded using the 'Files' icon on the left sidebar.\n",
            "\n",
            "Error: 'adult.csv' not found. Please ensure the file is uploaded to the Colab session.\n"
          ]
        }
      ]
    },
    {
      "cell_type": "markdown",
      "source": [
        "**Part 2: Create a Regression Label via Winsorization** (15)\n",
        "1. Create a new column label by applying winsorization (top and bottom 1%) to the education-num column using scipy.stats.mstats.winsorize.\n",
        "2. Verify that the new column was added by displaying the first few rows.\n",
        "3. Check whether label and education-num differ by subtracting the two and\n",
        "examining the unique values of the result."
      ],
      "metadata": {
        "id": "pFTLaYX4l6sW"
      }
    },
    {
      "cell_type": "code",
      "source": [
        "# Notes:\n",
        "# Winsorization is a statistical method used to handle extreme values or outliers in a dataset.\n",
        "# Instead of completely removing these outliers (a method called \"trimming\" or \"truncation\"),\n",
        "# Winsorization involves capping or replacing the most extreme values with less extreme values from the same dataset.\n",
        "# Winsorization strikes a balance between completely discarding extreme observations and\n",
        "# allowing them to disproportionately influence statistical analysis."
      ],
      "metadata": {
        "id": "YO0Y9loRqqLn"
      },
      "execution_count": 2,
      "outputs": []
    },
    {
      "cell_type": "code",
      "source": [
        "import pandas as pd\n",
        "from scipy.stats.mstats import winsorize\n",
        "import numpy as np # Often useful for numerical operations\n",
        "\n",
        "# Step 1: Load the adult.csv data into a DataFrame named df ---\n",
        "try:\n",
        "    df = pd.read_csv('adult.csv')\n",
        "    print(\"\\nAnswer Part2, Step 1:\")\n",
        "    print(\"-\" * 22)\n",
        "    print(\"DataFrame 'adult.csv' loaded successfully.\")\n",
        "    print(\"Original DataFrame shape:\", df.shape)\n",
        "    print(\"\\nOriginal 'education.num' column statistics:\")\n",
        "    print(df['education.num'].describe())\n",
        "\n",
        "except FileNotFoundError:\n",
        "    print(\"Error: 'adult.csv' not found. Please ensure the file is uploaded to the Colab session.\")\n",
        "    # Exit or handle the error appropriately if the file isn't found\n",
        "    exit()\n",
        "except Exception as e:\n",
        "    print(f\"An error occurred during file loading: {e}\")\n",
        "    exit()\n",
        "\n",
        "\n",
        "# Step 2a: Apply Winsorization to the 'education.num' column\n",
        "# Apply top and bottom 1% winsorization.\n",
        "# The 'limits' parameter takes a tuple (lower_limit, upper_limit).\n",
        "# 0.01 means 1% from the bottom and 1% from the top.\n",
        "print(\"\\n\\nAnswer Part2, Step 2 a:\")\n",
        "print(\"-\" * 22)\n",
        "df['education.num_winsorized'] = winsorize(df['education.num'], limits=(0.01, 0.01))\n",
        "print(\"Applied Winsorization to the 'education.num' column\")\n",
        "print(\"Windorized DataFrame shape:\", df.shape)\n",
        "\n",
        "\n",
        "# Step 2b: Display the first five rows of df with the new column\n",
        "print(\"\\n\\nAnswer Part2, Step 2 b1:\")\n",
        "print(\"-\" * 24)\n",
        "print(\"First five rows of the DataFrame after Winsorization, showing new education.num_winsorized column:\")\n",
        "print(df.head())\n",
        "\n",
        "print(\"\\n\\nAnswer Part2, Step 2 b2:\")\n",
        "print(\"-\" * 24)\n",
        "print(\"DataFrame head with with the original education.num and the new 'education.num_winsorized' column:\")\n",
        "print(df[['education.num', 'education.num_winsorized']].head())\n",
        "\n",
        "\n",
        "# Step 3 Check the difference between the original and winsorized columns ---\n",
        "# Subtract the winsorized column from the original\n",
        "print(\"\\n\\n\\n\\nAnswer Part2, Step 3:\")\n",
        "print(\"-\" * 22)\n",
        "difference = df['education.num'] - df['education.num_winsorized']\n",
        "\n",
        "# Get the unique values of the difference\n",
        "unique_differences = difference.unique()\n",
        "\n",
        "print(\"Verification of Winsorization Effect\")\n",
        "print(\"Unique differences between 'education.num' and 'education.num_winsorized':\")\n",
        "print(np.sort(unique_differences)) # Sort for better readability\n",
        "\n",
        "# Interpret the results\n",
        "print(\"\\n\\nInterpretation of results for validation:\")\n",
        "print(\"-\" * 42)\n",
        "if len(unique_differences) == 1 and unique_differences[0] == 0:\n",
        "    print(\"Result: The columns are identical. This is unexpected if winsorization occurred.\")\n",
        "    print(\"This might happen if your data has no outliers at the 1st/99th percentiles,\")\n",
        "    print(\"or if the winsorization limits were too wide.\")\n",
        "else:\n",
        "    print(\"\\nResult: The columns differ where winsorization was applied.\")\n",
        "    print(\"Non-zero values indicate where original extreme values were capped.\")\n",
        "    print(\"Positive values mean the original value was higher than the cap.\")\n",
        "    print(\"Negative values mean the original value was lower than the cap.\")\n",
        "\n",
        "print(\"\\n--- Original and Winsorized Column Statistics for context ---\")\n",
        "print(\"Original 'education.num' column statistics:\")\n",
        "print(df['education.num'].describe())\n",
        "print(\"\\nWinsorized 'education.num_winsorized' column statistics:\")\n",
        "print(df['education.num_winsorized'].describe())\n",
        "\n",
        "\n",
        "\n",
        "\n",
        "\n",
        "# Warnings explaination\n",
        "print(\"\\n\\n\")\n",
        "print(\"-\" * 80)\n",
        "print(\"\\nWarnings reported by Numpy libraries are showing up at the bottom of output due to unmasked data points:\\n\")\n",
        "print(\"The scipy.stats.mstats.winsorize function is built to correctly handle masked data.\\n It will ensure that the percentiles used for capping are calculated only from the valid (unmasked) data points.\\n The warning is more of an internal implementation detail of NumPy's partition and how it interacts with the MaskedArray structure at a low level.\\n This not an indication that winsorization is incorrect.\")\n",
        "print(\"\\nThese warnings can be ignored\")\n",
        "print(\"-\" * 80)\n",
        "print(\"\\n\\n\")\n",
        "\n"
      ],
      "metadata": {
        "colab": {
          "base_uri": "https://localhost:8080/",
          "height": 297
        },
        "id": "zq94naN_q3q-",
        "outputId": "caefb622-33ff-4cae-a3b0-8aecce93c423"
      },
      "execution_count": 3,
      "outputs": [
        {
          "output_type": "stream",
          "name": "stdout",
          "text": [
            "Error: 'adult.csv' not found. Please ensure the file is uploaded to the Colab session.\n",
            "\n",
            "\n",
            "Answer Part2, Step 2 a:\n",
            "----------------------\n"
          ]
        },
        {
          "output_type": "error",
          "ename": "NameError",
          "evalue": "name 'df' is not defined",
          "traceback": [
            "\u001b[0;31m---------------------------------------------------------------------------\u001b[0m",
            "\u001b[0;31mNameError\u001b[0m                                 Traceback (most recent call last)",
            "\u001b[0;32m/tmp/ipython-input-3-3035086674.py\u001b[0m in \u001b[0;36m<cell line: 0>\u001b[0;34m()\u001b[0m\n\u001b[1;32m     28\u001b[0m \u001b[0mprint\u001b[0m\u001b[0;34m(\u001b[0m\u001b[0;34m\"\\n\\nAnswer Part2, Step 2 a:\"\u001b[0m\u001b[0;34m)\u001b[0m\u001b[0;34m\u001b[0m\u001b[0;34m\u001b[0m\u001b[0m\n\u001b[1;32m     29\u001b[0m \u001b[0mprint\u001b[0m\u001b[0;34m(\u001b[0m\u001b[0;34m\"-\"\u001b[0m \u001b[0;34m*\u001b[0m \u001b[0;36m22\u001b[0m\u001b[0;34m)\u001b[0m\u001b[0;34m\u001b[0m\u001b[0;34m\u001b[0m\u001b[0m\n\u001b[0;32m---> 30\u001b[0;31m \u001b[0mdf\u001b[0m\u001b[0;34m[\u001b[0m\u001b[0;34m'education.num_winsorized'\u001b[0m\u001b[0;34m]\u001b[0m \u001b[0;34m=\u001b[0m \u001b[0mwinsorize\u001b[0m\u001b[0;34m(\u001b[0m\u001b[0mdf\u001b[0m\u001b[0;34m[\u001b[0m\u001b[0;34m'education.num'\u001b[0m\u001b[0;34m]\u001b[0m\u001b[0;34m,\u001b[0m \u001b[0mlimits\u001b[0m\u001b[0;34m=\u001b[0m\u001b[0;34m(\u001b[0m\u001b[0;36m0.01\u001b[0m\u001b[0;34m,\u001b[0m \u001b[0;36m0.01\u001b[0m\u001b[0;34m)\u001b[0m\u001b[0;34m)\u001b[0m\u001b[0;34m\u001b[0m\u001b[0;34m\u001b[0m\u001b[0m\n\u001b[0m\u001b[1;32m     31\u001b[0m \u001b[0mprint\u001b[0m\u001b[0;34m(\u001b[0m\u001b[0;34m\"Applied Winsorization to the 'education.num' column\"\u001b[0m\u001b[0;34m)\u001b[0m\u001b[0;34m\u001b[0m\u001b[0;34m\u001b[0m\u001b[0m\n\u001b[1;32m     32\u001b[0m \u001b[0mprint\u001b[0m\u001b[0;34m(\u001b[0m\u001b[0;34m\"Windorized DataFrame shape:\"\u001b[0m\u001b[0;34m,\u001b[0m \u001b[0mdf\u001b[0m\u001b[0;34m.\u001b[0m\u001b[0mshape\u001b[0m\u001b[0;34m)\u001b[0m\u001b[0;34m\u001b[0m\u001b[0;34m\u001b[0m\u001b[0m\n",
            "\u001b[0;31mNameError\u001b[0m: name 'df' is not defined"
          ]
        }
      ]
    }
  ]
}