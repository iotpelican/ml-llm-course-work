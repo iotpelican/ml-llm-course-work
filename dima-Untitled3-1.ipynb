{
  "nbformat": 4,
  "nbformat_minor": 0,
  "metadata": {
    "colab": {
      "provenance": [],
      "include_colab_link": true
    },
    "kernelspec": {
      "name": "python3",
      "display_name": "Python 3"
    },
    "language_info": {
      "name": "python"
    }
  },
  "cells": [
    {
      "cell_type": "markdown",
      "metadata": {
        "id": "view-in-github",
        "colab_type": "text"
      },
      "source": [
        "<a href=\"https://colab.research.google.com/github/iotpelican/ml-llm-course-work/blob/main/dima-Untitled3-1.ipynb\" target=\"_parent\"><img src=\"https://colab.research.google.com/assets/colab-badge.svg\" alt=\"Open In Colab\"/></a>"
      ]
    },
    {
      "cell_type": "code",
      "execution_count": null,
      "metadata": {
        "id": "yZ4S1j2i2lJZ"
      },
      "outputs": [],
      "source": [
        "from openai import OpenAI\n",
        "from google.colab import userdata\n",
        "client = OpenAI(api_key=userdata.get('OPENAI_API_KEY'))"
      ]
    },
    {
      "cell_type": "code",
      "source": [
        "message = \"If a tree absorbs 48 pounds of CO2 a year, how much CO2 will 10 trees absorb in a year? Show step by step answer.\""
      ],
      "metadata": {
        "id": "7AMcOQuq2se8"
      },
      "execution_count": null,
      "outputs": []
    },
    {
      "cell_type": "code",
      "source": [
        "response_auto_cot = client.responses.create(\n",
        "    model='o4-mini',\n",
        "    input=message,\n",
        "    reasoning={\"effort\": \"high\"}\n",
        ")"
      ],
      "metadata": {
        "id": "HgknXKJJ22Ue"
      },
      "execution_count": null,
      "outputs": []
    },
    {
      "cell_type": "code",
      "source": [
        "print(response_auto_cot.output_text)"
      ],
      "metadata": {
        "colab": {
          "base_uri": "https://localhost:8080/"
        },
        "id": "-5-aYnj-3rug",
        "outputId": "3e0e05df-0cb7-4685-efe9-b2c18ebe4886"
      },
      "execution_count": null,
      "outputs": [
        {
          "output_type": "stream",
          "name": "stdout",
          "text": [
            "Step 1: Note the absorption rate per tree.  \n",
            "• 1 tree absorbs 48 pounds of CO₂ per year.\n",
            "\n",
            "Step 2: Note the number of trees.  \n",
            "• We have 10 trees.\n",
            "\n",
            "Step 3: Multiply rate by number of trees.  \n",
            "• Total CO₂ absorbed = (absorption per tree) × (number of trees)  \n",
            "• Total CO₂ absorbed = 48 lb/tree·year × 10 trees  \n",
            "\n",
            "Step 4: Calculate.  \n",
            "• 48 × 10 = 480  \n",
            "\n",
            "Answer: 10 trees absorb 480 pounds of CO₂ in one year.\n"
          ]
        }
      ]
    },
    {
      "cell_type": "code",
      "source": [],
      "metadata": {
        "id": "7CRjwEi_3u_n"
      },
      "execution_count": null,
      "outputs": []
    }
  ]
}