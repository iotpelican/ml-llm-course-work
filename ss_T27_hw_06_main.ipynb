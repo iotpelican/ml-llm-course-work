{
  "nbformat": 4,
  "nbformat_minor": 0,
  "metadata": {
    "colab": {
      "provenance": [],
      "authorship_tag": "ABX9TyP2aigBO0+HH8wPZffU8x3Q",
      "include_colab_link": true
    },
    "kernelspec": {
      "name": "python3",
      "display_name": "Python 3"
    },
    "language_info": {
      "name": "python"
    }
  },
  "cells": [
    {
      "cell_type": "markdown",
      "metadata": {
        "id": "view-in-github",
        "colab_type": "text"
      },
      "source": [
        "<a href=\"https://colab.research.google.com/github/iotpelican/ml-llm-course-work/blob/main/ss_T27_hw_06_main.ipynb\" target=\"_parent\"><img src=\"https://colab.research.google.com/assets/colab-badge.svg\" alt=\"Open In Colab\"/></a>"
      ]
    },
    {
      "cell_type": "code",
      "execution_count": 5,
      "metadata": {
        "id": "DqnKF_SxPGhz"
      },
      "outputs": [],
      "source": [
        "# @title Assignment 06 - Convolutional Neural Networks"
      ]
    },
    {
      "cell_type": "markdown",
      "source": [
        "Assignment Submission Instructions\n",
        "\n",
        "● Submit a PDF file that includes all code, output, and results.\n",
        "\n",
        "● Export your Jupyter Notebook / Colab Notebook as a PDF.\n",
        "\n",
        "● Comment your code to explain key steps.\n",
        "\n",
        "● Ensure plots have clear titles and axis labels.\n",
        "\n",
        "● Organize your code using functions where appropriate.\n",
        "\n",
        "● The PDF should clearly present all steps and results in a well-structured and readable format.\n",
        "\n",
        "Building a Simple 1D Convolutional Neural Network (CNN) for Classification using the Iris Dataset\n",
        "\n",
        "**Objective:**\n",
        "\n",
        "In this assignment, you will:\n",
        "\n",
        "1. Learn the structure of a 1D Convolutional Neural Network (CNN).\n",
        "\n",
        "2. Build and train a simple CNN for classification on the Iris dataset (a multiclass classification problem).\n",
        "\n",
        "3. Evaluate the model’s performance and make observations."
      ],
      "metadata": {
        "id": "hFjP1gENWEl_"
      }
    },
    {
      "cell_type": "code",
      "source": [
        "# @title Step 1: Install Required Libraries\n",
        "#Install the following libraries:\n",
        "#● TensorFlow: pip install tensorflow\n",
        "#● scikit-learn: pip install scikit-learn\n",
        "#● Matplotlib: pip install matplotlib"
      ],
      "metadata": {
        "id": "OrcgNqcwPjMv"
      },
      "execution_count": 3,
      "outputs": []
    },
    {
      "cell_type": "code",
      "source": [
        "# @title Import libraries in Colab environment\n",
        "import tensorflow as tf\n",
        "import sklearn\n",
        "import matplotlib.pyplot as plt"
      ],
      "metadata": {
        "id": "YYDBP_O7TNHv"
      },
      "execution_count": 4,
      "outputs": []
    },
    {
      "cell_type": "code",
      "source": [
        "# @title Step 2 Questions: Load and Preprocess the Data\n"
      ],
      "metadata": {
        "id": "2hlgYbSZPzw1"
      },
      "execution_count": 6,
      "outputs": []
    },
    {
      "cell_type": "markdown",
      "source": [
        "1. Load the Iris Dataset using scikit-learn.\n",
        "2. Standardize the Data to scale features.\n",
        "3. Split the Data into training (80%) and testing (20%).\n",
        "4. Reshape the Data for 1D CNN:\n",
        "○ Format: (samples, features, channels)\n",
        "○ Use: (samples, 4, 1) since Iris has 4 features and 1 channel"
      ],
      "metadata": {
        "id": "9pRSsUXEVwPm"
      }
    },
    {
      "cell_type": "code",
      "source": [
        "# @title Step 2 Code & Answers:\n",
        "\n",
        "# 1. Load the Iris Dataset\n",
        "from sklearn.datasets import load_iris\n",
        "iris = load_iris()\n",
        "X = iris.data\n",
        "y = iris.target\n",
        "\n",
        "# 2. Standardize the Data\n",
        "from sklearn.preprocessing import StandardScaler\n",
        "scaler = StandardScaler()\n",
        "X_scaled = scaler.fit_transform(X)\n",
        "\n",
        "# 3. Split the Data\n",
        "from sklearn.model_selection import train_test_split\n",
        "X_train, X_test, y_train, y_test = train_test_split(X_scaled, y, test_size=0.2, random_state=42)\n",
        "\n",
        "# 4. Reshape the Data for a 1D CNN\n",
        "import numpy as np\n",
        "X_train_reshaped = np.reshape(X_train, (X_train.shape[0], X_train.shape[1], 1))\n",
        "X_test_reshaped = np.reshape(X_test, (X_test.shape[0], X_test.shape[1], 1))\n",
        "\n",
        "# Print the shapes to verify\n",
        "print(\"Original shape:\", X.shape)\n",
        "print(\"Standardized shape:\", X_scaled.shape)\n",
        "print(\"Training data shape:\", X_train.shape)\n",
        "print(\"Testing data shape:\", X_test.shape)\n",
        "print(\"Reshaped training data shape:\", X_train_reshaped.shape)\n",
        "print(\"Reshaped testing data shape:\", X_test_reshaped.shape)"
      ],
      "metadata": {
        "colab": {
          "base_uri": "https://localhost:8080/"
        },
        "id": "Kd3tW3RAUzbe",
        "outputId": "7c96c899-68f9-4005-c45e-3c3c5d254509"
      },
      "execution_count": 7,
      "outputs": [
        {
          "output_type": "stream",
          "name": "stdout",
          "text": [
            "Original shape: (150, 4)\n",
            "Standardized shape: (150, 4)\n",
            "Training data shape: (120, 4)\n",
            "Testing data shape: (30, 4)\n",
            "Reshaped training data shape: (120, 4, 1)\n",
            "Reshaped testing data shape: (30, 4, 1)\n"
          ]
        }
      ]
    },
    {
      "cell_type": "code",
      "source": [
        "# @title Step 3 Questions: Build the CNN Model"
      ],
      "metadata": {
        "id": "pAHhDnfDQDHl"
      },
      "execution_count": null,
      "outputs": []
    },
    {
      "cell_type": "markdown",
      "source": [
        "Construct a simple 1D CNN with the following:\n",
        "1. Conv1D Layer with 32 filters, kernel size of 3, and ReLU activation.\n",
        "2. MaxPooling1D Layer to downsample.\n",
        "3. Flatten Layer to flatten the output.\n",
        "4. Dense Layer with 64 neurons and ReLU activation.\n",
        "5. Output Layer with 3 neurons and softmax activation (for 3-class classification)."
      ],
      "metadata": {
        "id": "V-9j6D2PYncI"
      }
    },
    {
      "cell_type": "code",
      "source": [
        "# @title Step 3 Code  & Answers:\n",
        "from tensorflow.keras.models import Sequential\n",
        "from tensorflow.keras.layers import Conv1D, MaxPooling1D, Flatten, Dense, Input\n",
        "\n",
        "# Define the model\n",
        "model = Sequential()\n",
        "\n",
        "model.add(Input(shape=(4, 1)))  # instruction to Keras to use explict Input shape for first layer\n",
        "\n",
        "# Add the 1D Convolutional Layer\n",
        "model.add(Conv1D(filters=32, kernel_size=3, activation='relu'))\n",
        "\n",
        "# Add the 1D Max Pooling Layer\n",
        "model.add(MaxPooling1D(pool_size=2))\n",
        "\n",
        "# Flatten the output for the Dense layers\n",
        "model.add(Flatten())\n",
        "\n",
        "# Add a Dense (fully connected) Layer\n",
        "model.add(Dense(units=64, activation='relu'))\n",
        "\n",
        "# Add the Output Layer\n",
        "model.add(Dense(units=3, activation='softmax'))\n",
        "\n",
        "# Print a summary of the model's architecture\n",
        "model.summary()\n"
      ],
      "metadata": {
        "colab": {
          "base_uri": "https://localhost:8080/",
          "height": 295
        },
        "id": "R2UgTRExZeSP",
        "outputId": "0c5cb8cb-2a8a-436d-a2ed-140ec922c40a"
      },
      "execution_count": 9,
      "outputs": [
        {
          "output_type": "display_data",
          "data": {
            "text/plain": [
              "\u001b[1mModel: \"sequential_1\"\u001b[0m\n"
            ],
            "text/html": [
              "<pre style=\"white-space:pre;overflow-x:auto;line-height:normal;font-family:Menlo,'DejaVu Sans Mono',consolas,'Courier New',monospace\"><span style=\"font-weight: bold\">Model: \"sequential_1\"</span>\n",
              "</pre>\n"
            ]
          },
          "metadata": {}
        },
        {
          "output_type": "display_data",
          "data": {
            "text/plain": [
              "┏━━━━━━━━━━━━━━━━━━━━━━━━━━━━━━━━━┳━━━━━━━━━━━━━━━━━━━━━━━━┳━━━━━━━━━━━━━━━┓\n",
              "┃\u001b[1m \u001b[0m\u001b[1mLayer (type)                   \u001b[0m\u001b[1m \u001b[0m┃\u001b[1m \u001b[0m\u001b[1mOutput Shape          \u001b[0m\u001b[1m \u001b[0m┃\u001b[1m \u001b[0m\u001b[1m      Param #\u001b[0m\u001b[1m \u001b[0m┃\n",
              "┡━━━━━━━━━━━━━━━━━━━━━━━━━━━━━━━━━╇━━━━━━━━━━━━━━━━━━━━━━━━╇━━━━━━━━━━━━━━━┩\n",
              "│ conv1d_1 (\u001b[38;5;33mConv1D\u001b[0m)               │ (\u001b[38;5;45mNone\u001b[0m, \u001b[38;5;34m2\u001b[0m, \u001b[38;5;34m32\u001b[0m)          │           \u001b[38;5;34m128\u001b[0m │\n",
              "├─────────────────────────────────┼────────────────────────┼───────────────┤\n",
              "│ max_pooling1d_1 (\u001b[38;5;33mMaxPooling1D\u001b[0m)  │ (\u001b[38;5;45mNone\u001b[0m, \u001b[38;5;34m1\u001b[0m, \u001b[38;5;34m32\u001b[0m)          │             \u001b[38;5;34m0\u001b[0m │\n",
              "├─────────────────────────────────┼────────────────────────┼───────────────┤\n",
              "│ flatten_1 (\u001b[38;5;33mFlatten\u001b[0m)             │ (\u001b[38;5;45mNone\u001b[0m, \u001b[38;5;34m32\u001b[0m)             │             \u001b[38;5;34m0\u001b[0m │\n",
              "├─────────────────────────────────┼────────────────────────┼───────────────┤\n",
              "│ dense_2 (\u001b[38;5;33mDense\u001b[0m)                 │ (\u001b[38;5;45mNone\u001b[0m, \u001b[38;5;34m64\u001b[0m)             │         \u001b[38;5;34m2,112\u001b[0m │\n",
              "├─────────────────────────────────┼────────────────────────┼───────────────┤\n",
              "│ dense_3 (\u001b[38;5;33mDense\u001b[0m)                 │ (\u001b[38;5;45mNone\u001b[0m, \u001b[38;5;34m3\u001b[0m)              │           \u001b[38;5;34m195\u001b[0m │\n",
              "└─────────────────────────────────┴────────────────────────┴───────────────┘\n"
            ],
            "text/html": [
              "<pre style=\"white-space:pre;overflow-x:auto;line-height:normal;font-family:Menlo,'DejaVu Sans Mono',consolas,'Courier New',monospace\">┏━━━━━━━━━━━━━━━━━━━━━━━━━━━━━━━━━┳━━━━━━━━━━━━━━━━━━━━━━━━┳━━━━━━━━━━━━━━━┓\n",
              "┃<span style=\"font-weight: bold\"> Layer (type)                    </span>┃<span style=\"font-weight: bold\"> Output Shape           </span>┃<span style=\"font-weight: bold\">       Param # </span>┃\n",
              "┡━━━━━━━━━━━━━━━━━━━━━━━━━━━━━━━━━╇━━━━━━━━━━━━━━━━━━━━━━━━╇━━━━━━━━━━━━━━━┩\n",
              "│ conv1d_1 (<span style=\"color: #0087ff; text-decoration-color: #0087ff\">Conv1D</span>)               │ (<span style=\"color: #00d7ff; text-decoration-color: #00d7ff\">None</span>, <span style=\"color: #00af00; text-decoration-color: #00af00\">2</span>, <span style=\"color: #00af00; text-decoration-color: #00af00\">32</span>)          │           <span style=\"color: #00af00; text-decoration-color: #00af00\">128</span> │\n",
              "├─────────────────────────────────┼────────────────────────┼───────────────┤\n",
              "│ max_pooling1d_1 (<span style=\"color: #0087ff; text-decoration-color: #0087ff\">MaxPooling1D</span>)  │ (<span style=\"color: #00d7ff; text-decoration-color: #00d7ff\">None</span>, <span style=\"color: #00af00; text-decoration-color: #00af00\">1</span>, <span style=\"color: #00af00; text-decoration-color: #00af00\">32</span>)          │             <span style=\"color: #00af00; text-decoration-color: #00af00\">0</span> │\n",
              "├─────────────────────────────────┼────────────────────────┼───────────────┤\n",
              "│ flatten_1 (<span style=\"color: #0087ff; text-decoration-color: #0087ff\">Flatten</span>)             │ (<span style=\"color: #00d7ff; text-decoration-color: #00d7ff\">None</span>, <span style=\"color: #00af00; text-decoration-color: #00af00\">32</span>)             │             <span style=\"color: #00af00; text-decoration-color: #00af00\">0</span> │\n",
              "├─────────────────────────────────┼────────────────────────┼───────────────┤\n",
              "│ dense_2 (<span style=\"color: #0087ff; text-decoration-color: #0087ff\">Dense</span>)                 │ (<span style=\"color: #00d7ff; text-decoration-color: #00d7ff\">None</span>, <span style=\"color: #00af00; text-decoration-color: #00af00\">64</span>)             │         <span style=\"color: #00af00; text-decoration-color: #00af00\">2,112</span> │\n",
              "├─────────────────────────────────┼────────────────────────┼───────────────┤\n",
              "│ dense_3 (<span style=\"color: #0087ff; text-decoration-color: #0087ff\">Dense</span>)                 │ (<span style=\"color: #00d7ff; text-decoration-color: #00d7ff\">None</span>, <span style=\"color: #00af00; text-decoration-color: #00af00\">3</span>)              │           <span style=\"color: #00af00; text-decoration-color: #00af00\">195</span> │\n",
              "└─────────────────────────────────┴────────────────────────┴───────────────┘\n",
              "</pre>\n"
            ]
          },
          "metadata": {}
        },
        {
          "output_type": "display_data",
          "data": {
            "text/plain": [
              "\u001b[1m Total params: \u001b[0m\u001b[38;5;34m2,435\u001b[0m (9.51 KB)\n"
            ],
            "text/html": [
              "<pre style=\"white-space:pre;overflow-x:auto;line-height:normal;font-family:Menlo,'DejaVu Sans Mono',consolas,'Courier New',monospace\"><span style=\"font-weight: bold\"> Total params: </span><span style=\"color: #00af00; text-decoration-color: #00af00\">2,435</span> (9.51 KB)\n",
              "</pre>\n"
            ]
          },
          "metadata": {}
        },
        {
          "output_type": "display_data",
          "data": {
            "text/plain": [
              "\u001b[1m Trainable params: \u001b[0m\u001b[38;5;34m2,435\u001b[0m (9.51 KB)\n"
            ],
            "text/html": [
              "<pre style=\"white-space:pre;overflow-x:auto;line-height:normal;font-family:Menlo,'DejaVu Sans Mono',consolas,'Courier New',monospace\"><span style=\"font-weight: bold\"> Trainable params: </span><span style=\"color: #00af00; text-decoration-color: #00af00\">2,435</span> (9.51 KB)\n",
              "</pre>\n"
            ]
          },
          "metadata": {}
        },
        {
          "output_type": "display_data",
          "data": {
            "text/plain": [
              "\u001b[1m Non-trainable params: \u001b[0m\u001b[38;5;34m0\u001b[0m (0.00 B)\n"
            ],
            "text/html": [
              "<pre style=\"white-space:pre;overflow-x:auto;line-height:normal;font-family:Menlo,'DejaVu Sans Mono',consolas,'Courier New',monospace\"><span style=\"font-weight: bold\"> Non-trainable params: </span><span style=\"color: #00af00; text-decoration-color: #00af00\">0</span> (0.00 B)\n",
              "</pre>\n"
            ]
          },
          "metadata": {}
        }
      ]
    },
    {
      "cell_type": "code",
      "source": [
        "# @title Step 4 Question: Compile the Model"
      ],
      "metadata": {
        "id": "xOX3tZXaQLfm"
      },
      "execution_count": null,
      "outputs": []
    },
    {
      "cell_type": "markdown",
      "source": [
        "Compile your model using:\n",
        "\n",
        "● Optimizer: Adam\n",
        "\n",
        "● Loss Function: sparse_categorical_crossentropy\n",
        "\n",
        "● Metrics: Accuracy\n"
      ],
      "metadata": {
        "id": "a1DHgpgTc8Jw"
      }
    },
    {
      "cell_type": "code",
      "source": [
        "# @title Step 4 : Code & Answers\n",
        "\n",
        "# The optimizer is the algorithm that adjusts the model's weights during training to minimize the loss.\n",
        "# Adam is a popular optimizer that adapts the learning rate during training.\n",
        "\n",
        "# The loss function measures how well the model's predictions match the true labels.\n",
        "# Sparse categorical cross-entropy is applied as there more than two classes (the three iris species)\n",
        "# and target labels are integers (e.g., 0, 1, 2) rather than one-hot encoded vectors.\n",
        "\n",
        "# A metric is used to monitor the training and testing steps.\n",
        "# Accuracy is a common metric that simply calculates the percentage of correctly classified instances.\n",
        "\n",
        "model.compile(optimizer='adam',\n",
        "              loss='sparse_categorical_crossentropy',\n",
        "              metrics=['accuracy'])\n"
      ],
      "metadata": {
        "id": "vw48rUUldGHm"
      },
      "execution_count": 10,
      "outputs": []
    },
    {
      "cell_type": "code",
      "source": [
        "# @title Step 5 Question: Train the Model"
      ],
      "metadata": {
        "id": "TwHgvuwIQYXe"
      },
      "execution_count": null,
      "outputs": []
    },
    {
      "cell_type": "markdown",
      "source": [
        "1. Use model.fit() method\n",
        "2. Set epochs (e.g., 10) and batch size (e.g., 8)\n",
        "3. Include validation split (e.g., 20%)"
      ],
      "metadata": {
        "id": "b0frKxSBfZIf"
      }
    },
    {
      "cell_type": "code",
      "source": [
        "# @title Step 5 Code & Answers:\n",
        "\n",
        "# history variable will store a record of the training process,\n",
        "# including the loss and accuracy metrics for both the training and validation sets at each epoch\n",
        "history = model.fit(       # method to train Keras model\n",
        "    X_train_reshaped,      # variable contains your input data\n",
        "    y_train,               # contains the corresponding target labels\n",
        "    epochs=10,             # the model should go through all the training data 10 times\n",
        "    batch_size=8,          # the model will process 8 samples at a time before making an update.\n",
        "    validation_split=0.2   # 20% of the training data to be used to monitor the model's performance on unseen data during training.\n",
        ")"
      ],
      "metadata": {
        "colab": {
          "base_uri": "https://localhost:8080/"
        },
        "id": "8Z_lU5ObfQAX",
        "outputId": "9c6f15ce-fa0d-47ab-d0ba-17b7636e7f79"
      },
      "execution_count": 11,
      "outputs": [
        {
          "output_type": "stream",
          "name": "stdout",
          "text": [
            "Epoch 1/10\n",
            "\u001b[1m12/12\u001b[0m \u001b[32m━━━━━━━━━━━━━━━━━━━━\u001b[0m\u001b[37m\u001b[0m \u001b[1m1s\u001b[0m 22ms/step - accuracy: 0.5046 - loss: 1.0399 - val_accuracy: 0.5417 - val_loss: 0.9938\n",
            "Epoch 2/10\n",
            "\u001b[1m12/12\u001b[0m \u001b[32m━━━━━━━━━━━━━━━━━━━━\u001b[0m\u001b[37m\u001b[0m \u001b[1m0s\u001b[0m 7ms/step - accuracy: 0.6912 - loss: 0.8610 - val_accuracy: 0.7083 - val_loss: 0.9069\n",
            "Epoch 3/10\n",
            "\u001b[1m12/12\u001b[0m \u001b[32m━━━━━━━━━━━━━━━━━━━━\u001b[0m\u001b[37m\u001b[0m \u001b[1m0s\u001b[0m 7ms/step - accuracy: 0.8021 - loss: 0.7470 - val_accuracy: 0.7917 - val_loss: 0.8039\n",
            "Epoch 4/10\n",
            "\u001b[1m12/12\u001b[0m \u001b[32m━━━━━━━━━━━━━━━━━━━━\u001b[0m\u001b[37m\u001b[0m \u001b[1m0s\u001b[0m 7ms/step - accuracy: 0.7571 - loss: 0.7368 - val_accuracy: 0.8333 - val_loss: 0.7116\n",
            "Epoch 5/10\n",
            "\u001b[1m12/12\u001b[0m \u001b[32m━━━━━━━━━━━━━━━━━━━━\u001b[0m\u001b[37m\u001b[0m \u001b[1m0s\u001b[0m 8ms/step - accuracy: 0.7907 - loss: 0.5914 - val_accuracy: 0.8750 - val_loss: 0.6294\n",
            "Epoch 6/10\n",
            "\u001b[1m12/12\u001b[0m \u001b[32m━━━━━━━━━━━━━━━━━━━━\u001b[0m\u001b[37m\u001b[0m \u001b[1m0s\u001b[0m 6ms/step - accuracy: 0.8084 - loss: 0.5939 - val_accuracy: 0.8750 - val_loss: 0.5559\n",
            "Epoch 7/10\n",
            "\u001b[1m12/12\u001b[0m \u001b[32m━━━━━━━━━━━━━━━━━━━━\u001b[0m\u001b[37m\u001b[0m \u001b[1m0s\u001b[0m 7ms/step - accuracy: 0.8323 - loss: 0.4358 - val_accuracy: 0.8750 - val_loss: 0.5010\n",
            "Epoch 8/10\n",
            "\u001b[1m12/12\u001b[0m \u001b[32m━━━━━━━━━━━━━━━━━━━━\u001b[0m\u001b[37m\u001b[0m \u001b[1m0s\u001b[0m 7ms/step - accuracy: 0.8465 - loss: 0.4362 - val_accuracy: 0.8750 - val_loss: 0.4481\n",
            "Epoch 9/10\n",
            "\u001b[1m12/12\u001b[0m \u001b[32m━━━━━━━━━━━━━━━━━━━━\u001b[0m\u001b[37m\u001b[0m \u001b[1m0s\u001b[0m 7ms/step - accuracy: 0.8153 - loss: 0.4216 - val_accuracy: 0.9167 - val_loss: 0.4235\n",
            "Epoch 10/10\n",
            "\u001b[1m12/12\u001b[0m \u001b[32m━━━━━━━━━━━━━━━━━━━━\u001b[0m\u001b[37m\u001b[0m \u001b[1m0s\u001b[0m 7ms/step - accuracy: 0.8265 - loss: 0.3999 - val_accuracy: 0.9167 - val_loss: 0.3916\n"
          ]
        }
      ]
    },
    {
      "cell_type": "code",
      "source": [
        "# @title Step 6 Question: Evaluate the Model"
      ],
      "metadata": {
        "id": "WC8449m5QgoZ"
      },
      "execution_count": 12,
      "outputs": []
    },
    {
      "cell_type": "markdown",
      "source": [
        "1. Evaluate on test set using model.evaluate()\n",
        "2. Report test accuracy and discuss observations"
      ],
      "metadata": {
        "id": "1EIDsXCthVEI"
      }
    },
    {
      "cell_type": "code",
      "source": [
        "# @title Step 6 Code & Answers or Observations:\n",
        "# Evaluate the model on the test set\n",
        "test_loss, test_accuracy = model.evaluate(X_test_reshaped, y_test, verbose=0)\n",
        "    # model.evaluate() returns the loss and metrics for the model\n",
        "    # The order of the returned values matches the order of the metrics\n",
        "    # provided during the model's compilation step.\n",
        "    # In this case, it returns 'loss' and 'accuracy'.\n",
        "    # The verbose=0 argument suppresses the progress bar output during evaluation.\n",
        "\n",
        "\n",
        "test_loss, test_accuracy = model.evaluate(X_test_reshaped, y_test, verbose=0)\n",
        "\n",
        "# Print the results\n",
        "print(f\"Test Accuracy: {test_accuracy:.4f}\")\n",
        "print(f\"      A high test accuracy (close to 1.0) is a good sign that your model has learned the patterns in the Iris dataset effectively \\n      and isn't just memorizing the training data.\")\n",
        "print(f\"Test Loss: {test_loss:.4f}\")\n",
        "print(f\"      The test loss provides measure of the model's performance on the test set, with a lower value being better.\")"
      ],
      "metadata": {
        "colab": {
          "base_uri": "https://localhost:8080/"
        },
        "id": "XQtPNKn0hg2z",
        "outputId": "69e56fbd-1e06-4ec1-c9af-f997433f31a7"
      },
      "execution_count": 19,
      "outputs": [
        {
          "output_type": "stream",
          "name": "stdout",
          "text": [
            "Test Accuracy: 0.9000\n",
            "      A high test accuracy (close to 1.0) is a good sign that your model has learned the patterns in the Iris dataset effectively \n",
            "      and isn't just memorizing the training data.\n",
            "Test Loss: 0.3122\n",
            "      The test loss provides measure of the model's performance on the test set, with a lower value being better.\n"
          ]
        }
      ]
    },
    {
      "cell_type": "code",
      "source": [
        "# @title Step 7 Question: Visualize the Results"
      ],
      "metadata": {
        "id": "lKmrAm8uQoUn"
      },
      "execution_count": null,
      "outputs": []
    },
    {
      "cell_type": "markdown",
      "source": [
        "1. Plot training and validation accuracy over epochs\n",
        "2. Plot training and validation loss over epochs\n",
        "3. Use matplotlib and include titles, axis labels, and legends"
      ],
      "metadata": {
        "id": "31S5Cy5MkEj0"
      }
    },
    {
      "cell_type": "markdown",
      "source": [],
      "metadata": {
        "id": "PRfVnAHukEhh"
      }
    },
    {
      "cell_type": "code",
      "source": [
        "# @title Step 7 Code & Answers/plots of results\n",
        "\n",
        "# Model is already trained and stored the history in above steps\n",
        "\n",
        "# Plot training and validation accuracy and loss\n",
        "plt.figure(figsize=(12, 5))\n",
        "\n",
        "# Plot training and validation accuracy\n",
        "plt.subplot(1, 2, 1)\n",
        "plt.plot(history.history['accuracy'], label='Training Accuracy')\n",
        "plt.plot(history.history['val_accuracy'], label='Validation Accuracy')\n",
        "plt.title('Training and Validation Accuracy')\n",
        "plt.xlabel('Epoch')\n",
        "plt.ylabel('Accuracy')\n",
        "plt.legend()\n",
        "plt.grid(True)\n",
        "\n",
        "# Plot training and validation loss\n",
        "plt.subplot(1, 2, 2)\n",
        "plt.plot(history.history['loss'], label='Training Loss')\n",
        "plt.plot(history.history['val_loss'], label='Validation Loss')\n",
        "plt.title('Training and Validation Loss')\n",
        "plt.xlabel('Epoch')\n",
        "plt.ylabel('Loss')\n",
        "plt.legend()\n",
        "plt.grid(True)\n",
        "\n",
        "plt.tight_layout()\n",
        "plt.show()"
      ],
      "metadata": {
        "colab": {
          "base_uri": "https://localhost:8080/",
          "height": 507
        },
        "id": "aCkBx_zvkQ5r",
        "outputId": "af38678b-f96b-4916-83ff-bf2a75b21b81"
      },
      "execution_count": 21,
      "outputs": [
        {
          "output_type": "display_data",
          "data": {
            "text/plain": [
              "<Figure size 1200x500 with 2 Axes>"
            ],
            "image/png": "[encoded data removed]"
          },
          "metadata": {}
        }
      ]
    }
  ]
}