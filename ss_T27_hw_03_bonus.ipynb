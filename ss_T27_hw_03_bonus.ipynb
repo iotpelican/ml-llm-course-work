{
  "cells": [
    {
      "cell_type": "markdown",
      "metadata": {
        "id": "view-in-github",
        "colab_type": "text"
      },
      "source": [
        "<a href=\"https://colab.research.google.com/github/iotpelican/ml-llm-course-work/blob/main/ss_T27_hw_03_bonus.ipynb\" target=\"_parent\"><img src=\"https://colab.research.google.com/assets/colab-badge.svg\" alt=\"Open In Colab\"/></a>"
      ]
    },
    {
      "cell_type": "markdown",
      "source": [
        "Bonus Assignment 03 (Week 03)\n",
        "Polynomial Regression and Regularization\n",
        "\n",
        "Submit your completed .ipynb notebook file.\n",
        "Fill in all code blocks where indicated.\n",
        "\n",
        "Answer all questions clearly in markdown cells below each part.\n",
        "Comment your code for clarity"
      ],
      "metadata": {
        "id": "IrFtHZ3QSPmp"
      }
    },
    {
      "cell_type": "code",
      "source": [
        "# Provided Raw Data\n",
        "import numpy as np\n",
        "import matplotlib.pyplot as plt\n",
        "# Provided raw data arrays\n",
        "X = np.array([0.0, 0.5, 1.0, 1.5, 2.0, 2.5, 3.0, 3.5, 4.0, 4.5,\n",
        "5.0]).reshape(-1, 1)\n",
        "y = np.array([1.05, 1.47, 2.09, 2.87, 4.25, 5.12, 7.05, 8.91, 9.87,\n",
        "11.92, 13.03])\n",
        "plt.scatter(X, y)\n",
        "plt.xlabel('X')\n",
        "plt.ylabel('y')\n",
        "plt.title('Provided Data')\n",
        "plt.show()"
      ],
      "metadata": {
        "id": "uIQBJY5cS5jO"
      },
      "execution_count": null,
      "outputs": []
    },
    {
      "cell_type": "markdown",
      "source": [
        "Part 1: Polynomial Regression\n",
        "Fit Polynomial Regression models for degrees 1, 2, and 4\n",
        "1. Use PolynomialFeatures from scikit-learn to transform X for each degree.\n",
        "2. Fit a LinearRegression model on the transformed features.\n",
        "3. Predict on a smooth grid of X values to plot regression curves.\n",
        "4. Plot original data and all fitted polynomial curves on the same graph."
      ],
      "metadata": {
        "id": "gx7tpTD2T3C0"
      }
    },
    {
      "cell_type": "code",
      "source": [
        "from sklearn.preprocessing import PolynomialFeatures\n",
        "from sklearn.linear_model import LinearRegression\n",
        "degrees = [1, 2, 4]\n",
        "plt.scatter(X, y, color='black', label='Data')\n",
        "# Dense grid for smooth curve\n",
        "X_fit = np.linspace(0, 5, 100).reshape(-1,1)\n",
        "for degree in degrees:\n",
        "# Your code here:\n",
        "# 1. Create polynomial features for 'degree'\n",
        "# 2. Fit LinearRegression model on transformed X\n",
        "# 3. Predict y values for X_fit transformed features\n",
        "# 4. Plot the predicted curve with label showing degree\n",
        "pass\n",
        "plt.xlabel('X')\n",
        "plt.ylabel('y')\n",
        "plt.title('Polynomial Regression Fits')\n",
        "plt.legend()\n",
        "plt.show()"
      ],
      "metadata": {
        "id": "SOP9xDXAT9cK"
      },
      "execution_count": null,
      "outputs": []
    },
    {
      "cell_type": "markdown",
      "source": [
        "Answer the following\n",
        "1. How does increasing the polynomial degree affect the model fit?\n",
        "2. Which degree seems to underfit or overfit? Why?"
      ],
      "metadata": {
        "id": "QLMn-EMzUR_C"
      }
    },
    {
      "cell_type": "markdown",
      "source": [
        "Part 2: Ridge and Lasso Regression\n",
        "Fit Ridge and Lasso models with polynomial degree 4\n",
        "1. Generate degree 4 polynomial features for X.\n",
        "2. For alpha values [0.01, 0.1, 1.0]:\n",
        "Fit Ridge regression, predict on dense grid, and plot.\n",
        "Fit Lasso regression, predict on dense grid, and plot.\n",
        "3. Plot original data points and all curves separately for Ridge and Lasso"
      ],
      "metadata": {
        "id": "RF7G5b-YUVhq"
      }
    },
    {
      "cell_type": "code",
      "source": [
        "from sklearn.linear_model import Ridge, Lasso\n",
        "alphas = [0.01, 0.1, 1.0]\n",
        "# Generate degree 4 polynomial features once\n",
        "poly = PolynomialFeatures(4)\n",
        "X_poly = poly.fit_transform(X)\n",
        "X_fit_poly = poly.transform(np.linspace(0, 5, 100).reshape(-1,1))\n",
        "# Ridge regression plots\n",
        "plt.scatter(X, y, color='black', label='Data')\n",
        "for alpha in alphas:\n",
        "# Your code here:\n",
        "# 1. Fit Ridge(alpha=alpha) on X_poly, y\n",
        "# 2. Predict on X_fit_poly\n",
        "# 3. Plot the prediction with label 'Ridge alpha=...'\n",
        "pass\n",
        "plt.xlabel('X')\n",
        "plt.ylabel('y')\n",
        "plt.title('Ridge Regression with Different Alphas')\n",
        "plt.legend()\n",
        "plt.show()\n",
        "# Lasso regression plots\n",
        "plt.scatter(X, y, color='black', label='Data')\n",
        "for alpha in alphas:\n",
        "# Your code here:\n",
        "# 1. Fit Lasso(alpha=alpha, max_iter=10000) on X_poly, y\n",
        "# 2. Predict on X_fit_poly\n",
        "# 3. Plot the prediction with label 'Lasso alpha=...'\n",
        "pass\n",
        "plt.xlabel('X')\n",
        "plt.ylabel('y')\n",
        "plt.title('Lasso Regression with Different Alphas')\n",
        "plt.legend()\n",
        "plt.show()"
      ],
      "metadata": {
        "id": "SPSqbqqaUlWS"
      },
      "execution_count": null,
      "outputs": []
    },
    {
      "cell_type": "markdown",
      "source": [
        "Answer the following\n",
        "1. How does increasing alpha affect model complexity and fit in Ridge vs Lasso?\n",
        "2. Compare Ridge and Lasso fits to plain polynomial regression. What differences do you\n",
        "observe?\n",
        "3. When might you choose Lasso over Ridge?\n"
      ],
      "metadata": {
        "id": "fSZ_-vgjUnwb"
      }
    }
  ],
  "metadata": {
    "accelerator": "GPU",
    "colab": {
      "collapsed_sections": [
        "copyright",
        "xxOhpvdW6TbX",
        "exercise-1-key-1",
        "43ZTSJEc526U",
        "exercise-5-key-1",
        "ubHispCAA_5u",
        "exercise-6-key-1",
        "5p1IvWjfEjqm",
        "exercise-9-key-1"
      ],
      "private_outputs": true,
      "provenance": [],
      "include_colab_link": true
    },
    "kernelspec": {
      "display_name": "Python 3 (ipykernel)",
      "language": "python",
      "name": "python3"
    },
    "language_info": {
      "codemirror_mode": {
        "name": "ipython",
        "version": 3
      },
      "file_extension": ".py",
      "mimetype": "text/x-python",
      "name": "python",
      "nbconvert_exporter": "python",
      "pygments_lexer": "ipython3",
      "version": "3.9.2"
    }
  },
  "nbformat": 4,
  "nbformat_minor": 0
}