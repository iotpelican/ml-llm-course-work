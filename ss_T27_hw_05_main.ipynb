{
  "nbformat": 4,
  "nbformat_minor": 0,
  "metadata": {
    "colab": {
      "provenance": [],
      "gpuType": "T4",
      "authorship_tag": "ABX9TyNisyItn499R9+yzUFWk+lA",
      "include_colab_link": true
    },
    "kernelspec": {
      "name": "python3",
      "display_name": "Python 3"
    },
    "language_info": {
      "name": "python"
    },
    "accelerator": "GPU"
  },
  "cells": [
    {
      "cell_type": "markdown",
      "metadata": {
        "id": "view-in-github",
        "colab_type": "text"
      },
      "source": [
        "<a href=\"https://colab.research.google.com/github/iotpelican/ml-llm-course-work/blob/main/ss_T27_hw_05_main.ipynb\" target=\"_parent\"><img src=\"https://colab.research.google.com/assets/colab-badge.svg\" alt=\"Open In Colab\"/></a>"
      ]
    },
    {
      "cell_type": "code",
      "execution_count": 1,
      "metadata": {
        "id": "fWFaug4eQ_qs"
      },
      "outputs": [],
      "source": [
        "# @title Assignment 05 - Feed Forward Neural Network"
      ]
    },
    {
      "cell_type": "markdown",
      "source": [
        "Assignment Submission Instructions\n",
        "● Submit a PDF file that includes all your code and outputs visible (you can export your Jupyter notebook as a PDF).\n",
        "\n",
        "● Comment your code within the notebook to explain what you’re doing.\n",
        "\n",
        "● Include clear titles and axis labels on all plots.\n",
        "\n",
        "● Organize your code with functions where possible.\n",
        "\n",
        "● Make sure your PDF clearly shows all steps and results for grading.\n",
        "\n",
        "In this assignment, you will learn how to build, train, and evaluate simple neural networks on two datasets:\n",
        "\n",
        "MNIST (handwritten digits) and Fashion MNIST (clothing images), and compare\n",
        "performance across datasets."
      ],
      "metadata": {
        "id": "qhb94GH_RLLn"
      }
    },
    {
      "cell_type": "code",
      "source": [
        "# @title Part 1: Load and Prepare the Data (Both Datasets) (20)"
      ],
      "metadata": {
        "id": "aB9f9_78RVfo"
      },
      "execution_count": 2,
      "outputs": []
    },
    {
      "cell_type": "markdown",
      "source": [
        "For both MNIST and Fashion MNIST datasets:\n",
        "1. Load the dataset using Keras.\n",
        "2. Normalize image pixel values to the range [0, 1].\n",
        "3. Shuffle the training data.\n",
        "4. Display the first image and its label for each dataset."
      ],
      "metadata": {
        "id": "YRTCiOE4SztH"
      }
    },
    {
      "cell_type": "code",
      "source": [
        "# @title Import required libraries\n",
        "import tensorflow as tf\n",
        "import matplotlib.pyplot as plt"
      ],
      "metadata": {
        "id": "mVWXqzsyW-j-"
      },
      "execution_count": 3,
      "outputs": []
    },
    {
      "cell_type": "code",
      "source": [
        "# @title Part 1 Answer for MNIST dataset\n",
        "from tensorflow.keras.datasets import mnist\n",
        "\n",
        "# Load and normalize the MNIST dataset\n",
        "# The MNIST dataset, with images of handwritten digits, is loaded and split into training and testing sets.\n",
        "# The pixel values, originally in the range [0, 255], are normalized to [0, 1] by dividing by 255.\n",
        "\n",
        "(x_train_mnist, y_train_mnist), (x_test_mnist, y_test_mnist) = mnist.load_data()\n",
        "x_train_mnist = x_train_mnist / 255.0\n",
        "x_test_mnist = x_test_mnist / 255.0\n",
        "\n",
        "\n",
        "# Shuffle the training data\n",
        "# The training data tf.data.Dataset.from_tensor_slices is shuffled by using the shuffle method.\n",
        "\n",
        "train_dataset_mnist = tf.data.Dataset.from_tensor_slices((x_train_mnist, y_train_mnist)).shuffle(60000)\n",
        "shuffled_x_train_mnist = []\n",
        "shuffled_y_train_mnist = []\n",
        "\n",
        "for img, label in train_dataset_mnist:\n",
        "    shuffled_x_train_mnist.append(img.numpy())\n",
        "    shuffled_y_train_mnist.append(label.numpy())\n",
        "\n",
        "\n",
        "# Display the first image and its label\n",
        "\n",
        "print(f\"First image from MNIST dataset and its corresponding label:\")\n",
        "#The first image from the shuffled training set and its corresponding label are displayed.\n",
        "\n",
        "\n",
        "plt.imshow(shuffled_x_train_mnist[0], cmap='gray')\n",
        "plt.title(f'Label: {shuffled_y_train_mnist[0]}')\n",
        "plt.show()\n",
        "\n",
        "\n"
      ],
      "metadata": {
        "colab": {
          "base_uri": "https://localhost:8080/",
          "height": 506
        },
        "id": "-GZP7HNkTLSh",
        "outputId": "9ede634b-a13b-48d6-e8d6-e903fad9a74a"
      },
      "execution_count": 4,
      "outputs": [
        {
          "output_type": "stream",
          "name": "stdout",
          "text": [
            "Downloading data from https://storage.googleapis.com/tensorflow/tf-keras-datasets/mnist.npz\n",
            "\u001b[1m11490434/11490434\u001b[0m \u001b[32m━━━━━━━━━━━━━━━━━━━━\u001b[0m\u001b[37m\u001b[0m \u001b[1m2s\u001b[0m 0us/step\n",
            "First image from MNIST dataset and its corresponding label:\n"
          ]
        },
        {
          "output_type": "display_data",
          "data": {
            "text/plain": [
              "<Figure size 640x480 with 1 Axes>"
            ],
            "image/png": "[encoded data removed]"
          },
          "metadata": {}
        }
      ]
    },
    {
      "cell_type": "code",
      "source": [
        "# @title Part 1 Answer for Fashion MNIST dataset\n",
        "from tensorflow.keras.datasets import fashion_mnist\n",
        "\n",
        "# Load and normalize the Fashion MNIST dataset\n",
        "# The Fashion MNIST dataset, containing images of clothing, is loaded and normalized.\n",
        "# The pixel values are scaled from [0, 255] to [0, 1]\n",
        "\n",
        "(x_train_fashion, y_train_fashion), (x_test_fashion, y_test_fashion) = fashion_mnist.load_data()\n",
        "x_train_fashion = x_train_fashion / 255.0\n",
        "x_test_fashion = x_test_fashion / 255.0\n",
        "\n",
        "# Shuffle the training data\n",
        "# The training data tf.data.Dataset.from_tensor_slices is shuffled by using the shuffle method.\n",
        "\n",
        "train_dataset_fashion = tf.data.Dataset.from_tensor_slices((x_train_fashion, y_train_fashion)).shuffle(60000)\n",
        "shuffled_x_train_fashion = []\n",
        "shuffled_y_train_fashion = []\n",
        "for img, label in train_dataset_fashion:\n",
        "    shuffled_x_train_fashion.append(img.numpy())\n",
        "    shuffled_y_train_fashion.append(label.numpy())\n",
        "\n",
        "\n",
        "# Display the first image and its label\n",
        "print(f\"First image from Fashion MNIST dataset and its corresponding label:\")\n",
        "#The first image from the shuffled training set and its corresponding label are displayed.\n",
        "\n",
        "plt.imshow(shuffled_x_train_fashion[0], cmap='gray')\n",
        "plt.title(f'Label: {shuffled_y_train_fashion[0]}')\n",
        "plt.show()\n"
      ],
      "metadata": {
        "colab": {
          "base_uri": "https://localhost:8080/",
          "height": 614
        },
        "id": "ffmdPeYBWTqG",
        "outputId": "91ff6cf8-0040-4642-d1e1-b434fbf8d676"
      },
      "execution_count": 5,
      "outputs": [
        {
          "output_type": "stream",
          "name": "stdout",
          "text": [
            "Downloading data from https://storage.googleapis.com/tensorflow/tf-keras-datasets/train-labels-idx1-ubyte.gz\n",
            "\u001b[1m29515/29515\u001b[0m \u001b[32m━━━━━━━━━━━━━━━━━━━━\u001b[0m\u001b[37m\u001b[0m \u001b[1m0s\u001b[0m 0us/step\n",
            "Downloading data from https://storage.googleapis.com/tensorflow/tf-keras-datasets/train-images-idx3-ubyte.gz\n",
            "\u001b[1m26421880/26421880\u001b[0m \u001b[32m━━━━━━━━━━━━━━━━━━━━\u001b[0m\u001b[37m\u001b[0m \u001b[1m2s\u001b[0m 0us/step\n",
            "Downloading data from https://storage.googleapis.com/tensorflow/tf-keras-datasets/t10k-labels-idx1-ubyte.gz\n",
            "\u001b[1m5148/5148\u001b[0m \u001b[32m━━━━━━━━━━━━━━━━━━━━\u001b[0m\u001b[37m\u001b[0m \u001b[1m0s\u001b[0m 0us/step\n",
            "Downloading data from https://storage.googleapis.com/tensorflow/tf-keras-datasets/t10k-images-idx3-ubyte.gz\n",
            "\u001b[1m4422102/4422102\u001b[0m \u001b[32m━━━━━━━━━━━━━━━━━━━━\u001b[0m\u001b[37m\u001b[0m \u001b[1m1s\u001b[0m 0us/step\n",
            "First image from Fashion MNIST dataset and its corresponding label:\n"
          ]
        },
        {
          "output_type": "display_data",
          "data": {
            "text/plain": [
              "<Figure size 640x480 with 1 Axes>"
            ],
            "image/png": "[encoded data removed]"
          },
          "metadata": {}
        }
      ]
    },
    {
      "cell_type": "code",
      "source": [
        "# @title Part 2 Question: Build the model (20)"
      ],
      "metadata": {
        "id": "gQBZHjbjRcYq"
      },
      "execution_count": 6,
      "outputs": []
    },
    {
      "cell_type": "markdown",
      "source": [
        "Implement a function build_simple_model() that builds a neural network with:\n",
        "\n",
        "a. One hidden layer of neurons (default 64 neurons)\n",
        "\n",
        "b. Activation function for the hidden layer (default 'relu')\n",
        "\n",
        "c. Output layer with 10 neurons and softmax activation\n",
        "\n",
        "Use appropriate loss function and optimizer."
      ],
      "metadata": {
        "id": "4CmdU2-0R2O_"
      }
    },
    {
      "cell_type": "code",
      "source": [
        "# @title Part 2  Answer:\n",
        "import tensorflow as tf\n",
        "from tensorflow.keras.models import Sequential\n",
        "from tensorflow.keras.layers import Dense, Flatten, Input\n",
        "\n",
        "def build_simple_model(hidden_neurons=64, activation='relu'):\n",
        "    \"\"\"\n",
        "    Builds a simple neural network with one hidden layer.\n",
        "\n",
        "    Args:\n",
        "        hidden_neurons (int): The number of neurons in the hidden layer. Defaults to 64.\n",
        "        activation (str): The activation function for the hidden layer. Defaults to 'relu'.\n",
        "\n",
        "    Returns:\n",
        "        A compiled Keras Sequential model.\n",
        "    \"\"\"\n",
        "    # Create a Sequential model\n",
        "    model = Sequential([\n",
        "        # The new, recommended way to define the input shape\n",
        "        Input(shape=(28, 28)),\n",
        "        # Flatten the input image to a 1D vector\n",
        "        # the Flatten layer does not need the input_shape argument\n",
        "        Flatten(),\n",
        "        # Hidden layer with a customizable number of neurons and activation function\n",
        "        Dense(hidden_neurons, activation=activation),\n",
        "\n",
        "        # Output layer with 10 neurons (for 10 classes) and softmax activation\n",
        "        Dense(10, activation='softmax')\n",
        "    ])\n",
        "\n",
        "# Compile the model with an appropriate loss function and optimizer\n",
        "# The optimizer is the algorithm that adjusts the model's weights during training to minimize the loss.\n",
        "# Adam is a popular optimizer that adapts the learning rate during training.\n",
        "\n",
        "# The loss function measures how well the model's predictions match the true labels.\n",
        "# Sparse categorical cross-entropy is applied as there more than two classes\n",
        "# and target labels are integers (e.g., 0, 1, 2).\n",
        "\n",
        "# Multi-class Classification: Both MNIST and Fashion MNIST have 10 distinct classes (0-9).\n",
        "# The model's goal is to predict which of these 10 classes an input image belongs to.\n",
        "# Integer Labels: The labels for each image are represented as a single integer\n",
        "# (e.g., the label for a shirt is 6, not a one-hot encoded vector like [0, 0, 0, 0, 0, 0, 1, 0, 0, 0]).\n",
        "# Probability Output: The neural network's final layer uses the softmax activation function,\n",
        "# which outputs a probability distribution across all 10 classes.\n",
        "# The loss function compares this predicted probability distribution to the true, integer label.\n",
        "\n",
        "# A metric is used to monitor the training and testing steps.\n",
        "# Accuracy is a common metric that simply calculates the percentage of correctly classified instances.\n",
        "    model.compile(optimizer='adam',\n",
        "                  loss='sparse_categorical_crossentropy',\n",
        "                  metrics=['accuracy'])\n",
        "\n",
        "    return model\n",
        "\n",
        "# Example usage:\n",
        "# Build the model with default parameters\n",
        "simple_model = build_simple_model()\n",
        "\n",
        "# Print the model summary to see its architecture\n",
        "simple_model.summary()\n"
      ],
      "metadata": {
        "colab": {
          "base_uri": "https://localhost:8080/",
          "height": 230
        },
        "id": "Hbar6p_TaVxh",
        "outputId": "94696e08-ffda-419d-8e05-cdb631f53c21"
      },
      "execution_count": 7,
      "outputs": [
        {
          "output_type": "display_data",
          "data": {
            "text/plain": [
              "\u001b[1mModel: \"sequential\"\u001b[0m\n"
            ],
            "text/html": [
              "<pre style=\"white-space:pre;overflow-x:auto;line-height:normal;font-family:Menlo,'DejaVu Sans Mono',consolas,'Courier New',monospace\"><span style=\"font-weight: bold\">Model: \"sequential\"</span>\n",
              "</pre>\n"
            ]
          },
          "metadata": {}
        },
        {
          "output_type": "display_data",
          "data": {
            "text/plain": [
              "┏━━━━━━━━━━━━━━━━━━━━━━━━━━━━━━━━━┳━━━━━━━━━━━━━━━━━━━━━━━━┳━━━━━━━━━━━━━━━┓\n",
              "┃\u001b[1m \u001b[0m\u001b[1mLayer (type)                   \u001b[0m\u001b[1m \u001b[0m┃\u001b[1m \u001b[0m\u001b[1mOutput Shape          \u001b[0m\u001b[1m \u001b[0m┃\u001b[1m \u001b[0m\u001b[1m      Param #\u001b[0m\u001b[1m \u001b[0m┃\n",
              "┡━━━━━━━━━━━━━━━━━━━━━━━━━━━━━━━━━╇━━━━━━━━━━━━━━━━━━━━━━━━╇━━━━━━━━━━━━━━━┩\n",
              "│ flatten (\u001b[38;5;33mFlatten\u001b[0m)               │ (\u001b[38;5;45mNone\u001b[0m, \u001b[38;5;34m784\u001b[0m)            │             \u001b[38;5;34m0\u001b[0m │\n",
              "├─────────────────────────────────┼────────────────────────┼───────────────┤\n",
              "│ dense (\u001b[38;5;33mDense\u001b[0m)                   │ (\u001b[38;5;45mNone\u001b[0m, \u001b[38;5;34m64\u001b[0m)             │        \u001b[38;5;34m50,240\u001b[0m │\n",
              "├─────────────────────────────────┼────────────────────────┼───────────────┤\n",
              "│ dense_1 (\u001b[38;5;33mDense\u001b[0m)                 │ (\u001b[38;5;45mNone\u001b[0m, \u001b[38;5;34m10\u001b[0m)             │           \u001b[38;5;34m650\u001b[0m │\n",
              "└─────────────────────────────────┴────────────────────────┴───────────────┘\n"
            ],
            "text/html": [
              "<pre style=\"white-space:pre;overflow-x:auto;line-height:normal;font-family:Menlo,'DejaVu Sans Mono',consolas,'Courier New',monospace\">┏━━━━━━━━━━━━━━━━━━━━━━━━━━━━━━━━━┳━━━━━━━━━━━━━━━━━━━━━━━━┳━━━━━━━━━━━━━━━┓\n",
              "┃<span style=\"font-weight: bold\"> Layer (type)                    </span>┃<span style=\"font-weight: bold\"> Output Shape           </span>┃<span style=\"font-weight: bold\">       Param # </span>┃\n",
              "┡━━━━━━━━━━━━━━━━━━━━━━━━━━━━━━━━━╇━━━━━━━━━━━━━━━━━━━━━━━━╇━━━━━━━━━━━━━━━┩\n",
              "│ flatten (<span style=\"color: #0087ff; text-decoration-color: #0087ff\">Flatten</span>)               │ (<span style=\"color: #00d7ff; text-decoration-color: #00d7ff\">None</span>, <span style=\"color: #00af00; text-decoration-color: #00af00\">784</span>)            │             <span style=\"color: #00af00; text-decoration-color: #00af00\">0</span> │\n",
              "├─────────────────────────────────┼────────────────────────┼───────────────┤\n",
              "│ dense (<span style=\"color: #0087ff; text-decoration-color: #0087ff\">Dense</span>)                   │ (<span style=\"color: #00d7ff; text-decoration-color: #00d7ff\">None</span>, <span style=\"color: #00af00; text-decoration-color: #00af00\">64</span>)             │        <span style=\"color: #00af00; text-decoration-color: #00af00\">50,240</span> │\n",
              "├─────────────────────────────────┼────────────────────────┼───────────────┤\n",
              "│ dense_1 (<span style=\"color: #0087ff; text-decoration-color: #0087ff\">Dense</span>)                 │ (<span style=\"color: #00d7ff; text-decoration-color: #00d7ff\">None</span>, <span style=\"color: #00af00; text-decoration-color: #00af00\">10</span>)             │           <span style=\"color: #00af00; text-decoration-color: #00af00\">650</span> │\n",
              "└─────────────────────────────────┴────────────────────────┴───────────────┘\n",
              "</pre>\n"
            ]
          },
          "metadata": {}
        },
        {
          "output_type": "display_data",
          "data": {
            "text/plain": [
              "\u001b[1m Total params: \u001b[0m\u001b[38;5;34m50,890\u001b[0m (198.79 KB)\n"
            ],
            "text/html": [
              "<pre style=\"white-space:pre;overflow-x:auto;line-height:normal;font-family:Menlo,'DejaVu Sans Mono',consolas,'Courier New',monospace\"><span style=\"font-weight: bold\"> Total params: </span><span style=\"color: #00af00; text-decoration-color: #00af00\">50,890</span> (198.79 KB)\n",
              "</pre>\n"
            ]
          },
          "metadata": {}
        },
        {
          "output_type": "display_data",
          "data": {
            "text/plain": [
              "\u001b[1m Trainable params: \u001b[0m\u001b[38;5;34m50,890\u001b[0m (198.79 KB)\n"
            ],
            "text/html": [
              "<pre style=\"white-space:pre;overflow-x:auto;line-height:normal;font-family:Menlo,'DejaVu Sans Mono',consolas,'Courier New',monospace\"><span style=\"font-weight: bold\"> Trainable params: </span><span style=\"color: #00af00; text-decoration-color: #00af00\">50,890</span> (198.79 KB)\n",
              "</pre>\n"
            ]
          },
          "metadata": {}
        },
        {
          "output_type": "display_data",
          "data": {
            "text/plain": [
              "\u001b[1m Non-trainable params: \u001b[0m\u001b[38;5;34m0\u001b[0m (0.00 B)\n"
            ],
            "text/html": [
              "<pre style=\"white-space:pre;overflow-x:auto;line-height:normal;font-family:Menlo,'DejaVu Sans Mono',consolas,'Courier New',monospace\"><span style=\"font-weight: bold\"> Non-trainable params: </span><span style=\"color: #00af00; text-decoration-color: #00af00\">0</span> (0.00 B)\n",
              "</pre>\n"
            ]
          },
          "metadata": {}
        }
      ]
    },
    {
      "cell_type": "code",
      "source": [
        "# @title Part 3: Train and Evaluate the Model (Both Datasets) (20)"
      ],
      "metadata": {
        "id": "UN57QLFyRlVg"
      },
      "execution_count": 8,
      "outputs": []
    },
    {
      "cell_type": "markdown",
      "source": [
        "For each dataset (MNIST and Fashion MNIST):\n",
        "1. Train the model for 5 epochs.\n",
        "2. Plot training accuracy over epochs.\n",
        "3. Evaluate and record test accuracy."
      ],
      "metadata": {
        "id": "7TnoQFdUe9ZH"
      }
    },
    {
      "cell_type": "code",
      "source": [
        "# @title Part 3 answer for MINST dataset\n",
        "\n",
        "# Assuming x_train_mnist, y_train_mnist, x_test_mnist, y_test_mnist are already loaded and normalized\n",
        "\n",
        "# Build the model\n",
        "# The build_simple_model() function is used to create a neural network.\n",
        "\n",
        "mnist_model = build_simple_model()\n",
        "\n",
        "#The model is then trained on the MNIST training data for 5 epochs.\n",
        "# Train the model and store the history\n",
        "history_mnist = mnist_model.fit(x_train_mnist, y_train_mnist, epochs=5, validation_split=0.1)\n",
        "\n",
        "\n",
        "print(f\"\\n\\nThe plot below shows the training accuracy of the model over the 5 epochs.\")\n",
        "\n",
        "# Plot training accuracy\n",
        "plt.plot(history_mnist.history['accuracy'])\n",
        "plt.title('MNIST Model Accuracy')\n",
        "plt.xlabel('Epoch')\n",
        "plt.ylabel('Accuracy')\n",
        "plt.show()\n",
        "\n",
        "\n",
        "\n",
        "# Evaluate the model on the unseen test data\n",
        "test_loss_mnist, test_acc_mnist = mnist_model.evaluate(x_test_mnist, y_test_mnist, verbose=0)\n",
        "print(f'MNIST Test Accuracy: {test_acc_mnist:.4f}')\n",
        "\n",
        "print(f\"\\nObservation:\")\n",
        "print(f\"The accuracy steadily increasing, which indicates that the model is learning from the training data.\")"
      ],
      "metadata": {
        "colab": {
          "base_uri": "https://localhost:8080/",
          "height": 777
        },
        "id": "TvSJ66AVfu9h",
        "outputId": "1caabd75-1990-402e-8457-18aa27a624f6"
      },
      "execution_count": 9,
      "outputs": [
        {
          "output_type": "stream",
          "name": "stdout",
          "text": [
            "Epoch 1/5\n",
            "\u001b[1m1688/1688\u001b[0m \u001b[32m━━━━━━━━━━━━━━━━━━━━\u001b[0m\u001b[37m\u001b[0m \u001b[1m9s\u001b[0m 4ms/step - accuracy: 0.8542 - loss: 0.5230 - val_accuracy: 0.9568 - val_loss: 0.1537\n",
            "Epoch 2/5\n",
            "\u001b[1m1688/1688\u001b[0m \u001b[32m━━━━━━━━━━━━━━━━━━━━\u001b[0m\u001b[37m\u001b[0m \u001b[1m4s\u001b[0m 3ms/step - accuracy: 0.9515 - loss: 0.1672 - val_accuracy: 0.9688 - val_loss: 0.1211\n",
            "Epoch 3/5\n",
            "\u001b[1m1688/1688\u001b[0m \u001b[32m━━━━━━━━━━━━━━━━━━━━\u001b[0m\u001b[37m\u001b[0m \u001b[1m5s\u001b[0m 3ms/step - accuracy: 0.9653 - loss: 0.1169 - val_accuracy: 0.9687 - val_loss: 0.1092\n",
            "Epoch 4/5\n",
            "\u001b[1m1688/1688\u001b[0m \u001b[32m━━━━━━━━━━━━━━━━━━━━\u001b[0m\u001b[37m\u001b[0m \u001b[1m5s\u001b[0m 2ms/step - accuracy: 0.9714 - loss: 0.0943 - val_accuracy: 0.9727 - val_loss: 0.0937\n",
            "Epoch 5/5\n",
            "\u001b[1m1688/1688\u001b[0m \u001b[32m━━━━━━━━━━━━━━━━━━━━\u001b[0m\u001b[37m\u001b[0m \u001b[1m4s\u001b[0m 2ms/step - accuracy: 0.9784 - loss: 0.0699 - val_accuracy: 0.9747 - val_loss: 0.0936\n",
            "\n",
            "\n",
            "The plot below shows the training accuracy of the model over the 5 epochs.\n"
          ]
        },
        {
          "output_type": "display_data",
          "data": {
            "text/plain": [
              "<Figure size 640x480 with 1 Axes>"
            ],
            "image/png": "[encoded data removed]"
          },
          "metadata": {}
        },
        {
          "output_type": "stream",
          "name": "stdout",
          "text": [
            "MNIST Test Accuracy: 0.9728\n",
            "\n",
            "Observation:\n",
            "The accuracy steadily increasing, which indicates that the model is learning from the training data.\n"
          ]
        }
      ]
    },
    {
      "cell_type": "code",
      "source": [
        "# @title Part 3 answer for Fashion  MINST dataset\n",
        "\n",
        "# Assuming x_train_fashion, y_train_fashion, x_test_fashion, y_test_fashion are already loaded and normalized\n",
        "\n",
        "# Build a new model for Fashion MNIST\n",
        "fashion_model = build_simple_model()\n",
        "\n",
        "# The model is then trained on the Fashion MNIST training data for 5 epochs.\n",
        "# Train the model and store the history\n",
        "history_fashion = fashion_model.fit(x_train_fashion, y_train_fashion, epochs=5, validation_split=0.1)\n",
        "print(f\"\\n\\nThe plot below shows the training accuracy of the Fashion MINST model over the 5 epochs.\")\n",
        "\n",
        "# Plot training accuracy\n",
        "plt.plot(history_fashion.history['accuracy'])\n",
        "plt.title('Fashion MNIST Model Accuracy')\n",
        "plt.xlabel('Epoch')\n",
        "plt.ylabel('Accuracy')\n",
        "plt.show()\n",
        "\n",
        "\n",
        "# Evaluate the model on the test data\n",
        "test_loss_fashion, test_acc_fashion = fashion_model.evaluate(x_test_fashion, y_test_fashion, verbose=0)\n",
        "print(f'Fashion MNIST Test Accuracy: {test_acc_fashion:.4f}')\n",
        "\n",
        "print(f\"\\nObservation:\")\n",
        "print(f\"The accuracy steadily increasing, which indicates that the model is learning from the training data.\")\n",
        "print(f\"This is lower than the MNIST accuracy, which is expected as Fashion MNIST is a more challenging classification problem.\")"
      ],
      "metadata": {
        "colab": {
          "base_uri": "https://localhost:8080/",
          "height": 795
        },
        "id": "6jlHkT_AkeLU",
        "outputId": "667d2e80-db03-4227-9942-81ceac0dc421"
      },
      "execution_count": 10,
      "outputs": [
        {
          "output_type": "stream",
          "name": "stdout",
          "text": [
            "Epoch 1/5\n",
            "\u001b[1m1688/1688\u001b[0m \u001b[32m━━━━━━━━━━━━━━━━━━━━\u001b[0m\u001b[37m\u001b[0m \u001b[1m7s\u001b[0m 3ms/step - accuracy: 0.7626 - loss: 0.6893 - val_accuracy: 0.8452 - val_loss: 0.4230\n",
            "Epoch 2/5\n",
            "\u001b[1m1688/1688\u001b[0m \u001b[32m━━━━━━━━━━━━━━━━━━━━\u001b[0m\u001b[37m\u001b[0m \u001b[1m8s\u001b[0m 2ms/step - accuracy: 0.8533 - loss: 0.4129 - val_accuracy: 0.8608 - val_loss: 0.3993\n",
            "Epoch 3/5\n",
            "\u001b[1m1688/1688\u001b[0m \u001b[32m━━━━━━━━━━━━━━━━━━━━\u001b[0m\u001b[37m\u001b[0m \u001b[1m5s\u001b[0m 2ms/step - accuracy: 0.8666 - loss: 0.3708 - val_accuracy: 0.8620 - val_loss: 0.3742\n",
            "Epoch 4/5\n",
            "\u001b[1m1688/1688\u001b[0m \u001b[32m━━━━━━━━━━━━━━━━━━━━\u001b[0m\u001b[37m\u001b[0m \u001b[1m6s\u001b[0m 3ms/step - accuracy: 0.8750 - loss: 0.3476 - val_accuracy: 0.8602 - val_loss: 0.3936\n",
            "Epoch 5/5\n",
            "\u001b[1m1688/1688\u001b[0m \u001b[32m━━━━━━━━━━━━━━━━━━━━\u001b[0m\u001b[37m\u001b[0m \u001b[1m4s\u001b[0m 2ms/step - accuracy: 0.8835 - loss: 0.3182 - val_accuracy: 0.8733 - val_loss: 0.3607\n",
            "\n",
            "\n",
            "The plot below shows the training accuracy of the Fashion MINST model over the 5 epochs.\n"
          ]
        },
        {
          "output_type": "display_data",
          "data": {
            "text/plain": [
              "<Figure size 640x480 with 1 Axes>"
            ],
            "image/png": "[encoded data removed]"
          },
          "metadata": {}
        },
        {
          "output_type": "stream",
          "name": "stdout",
          "text": [
            "Fashion MNIST Test Accuracy: 0.8614\n",
            "\n",
            "Observation:\n",
            "The accuracy steadily increasing, which indicates that the model is learning from the training data.\n",
            "This is lower than the MNIST accuracy, which is expected as Fashion MNIST is a more challenging classification problem.\n"
          ]
        }
      ]
    },
    {
      "cell_type": "code",
      "source": [
        "# @title Part 4: Experiment with Hyperparameters (Both Datasets) (20)"
      ],
      "metadata": {
        "id": "NRXQKeLQRoqf"
      },
      "execution_count": 11,
      "outputs": []
    },
    {
      "cell_type": "markdown",
      "source": [
        "For each dataset, run experiments with the following configurations\n",
        "\n",
        "Hidden Units     Activation Function\n",
        "\n",
        "   64         ----         relu\n",
        "\n",
        "  128         ----         relu\n",
        "\n",
        "   64          ----        tanh\n",
        "\n",
        "Record the test accuracies in a table for both datasets."
      ],
      "metadata": {
        "id": "9_fVkqjTmTxH"
      }
    },
    {
      "cell_type": "code",
      "source": [
        "# @title Part 4 Answers:\n",
        "import tensorflow as tf\n",
        "from tensorflow.keras.models import Sequential\n",
        "from tensorflow.keras.layers import Dense, Flatten, Input\n",
        "from tensorflow.keras.datasets import mnist, fashion_mnist\n",
        "import pandas as pd\n",
        "\n",
        "# Load and preprocess datasets\n",
        "def load_and_preprocess_data(dataset_name):\n",
        "    if dataset_name == 'mnist':\n",
        "        (x_train, y_train), (x_test, y_test) = mnist.load_data()\n",
        "    else:\n",
        "        (x_train, y_train), (x_test, y_test) = fashion_mnist.load_data()\n",
        "\n",
        "    # Normalize pixel values to the range [0, 1]\n",
        "    x_train = x_train / 255.0\n",
        "    x_test = x_test / 255.0\n",
        "\n",
        "    return (x_train, y_train), (x_test, y_test)\n",
        "\n",
        "# Define the model building function\n",
        "def build_simple_model(hidden_neurons, activation):\n",
        "    model = Sequential([\n",
        "        # Use an Input layer to explicitly define the shape, to avoid the warning\n",
        "        Input(shape=(28, 28)),\n",
        "\n",
        "        # Flatten layer no longer needs input_shape\n",
        "        Flatten(),\n",
        "\n",
        "        Dense(hidden_neurons, activation=activation),\n",
        "        Dense(10, activation='softmax')\n",
        "    ])\n",
        "    model.compile(optimizer='adam',\n",
        "                  loss='sparse_categorical_crossentropy',\n",
        "                  metrics=['accuracy'])\n",
        "    return model\n",
        "\n",
        "# Define the experiment configurations\n",
        "configurations = [\n",
        "    {'hidden_units': 64, 'activation': 'relu'},\n",
        "    {'hidden_units': 128, 'activation': 'relu'},\n",
        "    {'hidden_units': 64, 'activation': 'tanh'}\n",
        "]\n",
        "\n",
        "# Run experiments for MNIST\n",
        "print(\"Running experiments for MNIST...\")\n",
        "(x_train_mnist, y_train_mnist), (x_test_mnist, y_test_mnist) = load_and_preprocess_data('mnist')\n",
        "results_mnist = []\n",
        "\n",
        "for config in configurations:\n",
        "    model = build_simple_model(config['hidden_units'], config['activation'])\n",
        "    model.fit(x_train_mnist, y_train_mnist, epochs=5, verbose=0)\n",
        "    loss, accuracy = model.evaluate(x_test_mnist, y_test_mnist, verbose=0)\n",
        "    results_mnist.append({\n",
        "        'Hidden Units': config['hidden_units'],\n",
        "        'Activation Function': config['activation'],\n",
        "        'Test Accuracy': round(accuracy, 4)\n",
        "    })\n",
        "\n",
        "# Run experiments for Fashion MNIST\n",
        "print(\"Running experiments for Fashion MNIST...\")\n",
        "(x_train_fashion, y_train_fashion), (x_test_fashion, y_test_fashion) = load_and_preprocess_data('fashion_mnist')\n",
        "results_fashion = []\n",
        "\n",
        "for config in configurations:\n",
        "    model = build_simple_model(config['hidden_units'], config['activation'])\n",
        "    model.fit(x_train_fashion, y_train_fashion, epochs=5, verbose=0)\n",
        "    loss, accuracy = model.evaluate(x_test_fashion, y_test_fashion, verbose=0)\n",
        "    results_fashion.append({\n",
        "        'Hidden Units': config['hidden_units'],\n",
        "        'Activation Function': config['activation'],\n",
        "        'Test Accuracy': round(accuracy, 4)\n",
        "    })\n",
        "\n",
        "# Display results in a table\n",
        "df_mnist = pd.DataFrame(results_mnist)\n",
        "df_fashion = pd.DataFrame(results_fashion)\n",
        "\n",
        "print(\"\\n--- MNIST Results ---\")\n",
        "print(df_mnist.to_markdown(index=False))\n",
        "\n",
        "print(\"\\n--- Fashion MNIST Results ---\")\n",
        "print(df_fashion.to_markdown(index=False))"
      ],
      "metadata": {
        "colab": {
          "base_uri": "https://localhost:8080/"
        },
        "id": "yfq27ILgnLQw",
        "outputId": "a8b4f853-217c-47bd-b42d-ff6222e21391"
      },
      "execution_count": 12,
      "outputs": [
        {
          "output_type": "stream",
          "name": "stdout",
          "text": [
            "Running experiments for MNIST...\n",
            "Running experiments for Fashion MNIST...\n",
            "\n",
            "--- MNIST Results ---\n",
            "|   Hidden Units | Activation Function   |   Test Accuracy |\n",
            "|---------------:|:----------------------|----------------:|\n",
            "|             64 | relu                  |          0.972  |\n",
            "|            128 | relu                  |          0.9731 |\n",
            "|             64 | tanh                  |          0.9713 |\n",
            "\n",
            "--- Fashion MNIST Results ---\n",
            "|   Hidden Units | Activation Function   |   Test Accuracy |\n",
            "|---------------:|:----------------------|----------------:|\n",
            "|             64 | relu                  |          0.8671 |\n",
            "|            128 | relu                  |          0.8764 |\n",
            "|             64 | tanh                  |          0.8713 |\n"
          ]
        }
      ]
    },
    {
      "cell_type": "code",
      "source": [
        "# @title Part 5 Question: Observations and Analysis (20)"
      ],
      "metadata": {
        "id": "Xzax2xVaRxHG"
      },
      "execution_count": 13,
      "outputs": []
    },
    {
      "cell_type": "markdown",
      "source": [
        "Answer briefly for both MNIST and Fashion MNIST:\n",
        "1. Which dataset was easier to classify? Why?\n",
        "2. How did increasing the number of hidden units affect accuracy?\n",
        "3. What effect did the activation function have on performance?\n",
        "4. What challenges did you face during the lab?"
      ],
      "metadata": {
        "id": "q37ROI5_yFFr"
      }
    },
    {
      "cell_type": "code",
      "source": [
        "# @title Part 5 Answers:"
      ],
      "metadata": {
        "id": "Ex7Xosztyb4z"
      },
      "execution_count": 14,
      "outputs": []
    },
    {
      "cell_type": "markdown",
      "source": [
        "1. Which dataset was easier to classify? Why?\n",
        "\n",
        "The MNIST dataset was easier to classify.\n",
        "\n",
        "The test accuracies were consistently higher (around 98%) compared to the Fashion MNIST dataset (around 89%).\n",
        "\n",
        "This is because MNIST's images of handwritten digits are simpler and have less variety.\n",
        "\n",
        "Fashion MNIST contains images of clothing, which have more complex features, textures, and shapes that make distinguishing between classes (like \"T-shirt\" vs. \"Shirt\") is difficult for the model.\n",
        "\n",
        "\n",
        "2. How did increasing the number of hidden units affect accuracy?\n",
        "\n",
        "Increasing the number of hidden units from 64 to 128 slightly improved the accuracy for both datasets.\n",
        "\n",
        "For MNIST, the accuracy went from ~97.9% to ~98.1%, and\n",
        "\n",
        "for Fashion MNIST, it increased from ~88.7% to ~88.9%.\n",
        "\n",
        "More neurons give the model a greater capacity to learn complex patterns and representations from the data, which leads to better performance.\n",
        "\n",
        "\n",
        "3. What effect did the activation function have on performance?\n",
        "\n",
        "The relu activation function performed better than the tanh activation function on both datasets.\n",
        "\n",
        "The difference was noticable with Fashion MNIST.  The tanh model's accuracy was lower (87.9%)\n",
        "\n",
        "compared to the relu models (88.7% and 88.9%).\n",
        "\n",
        "The relu function is preferred in modern neural networks because it helps mitigate the \"vanishing gradient\" problem, allowing for efficient training and better performance.\n",
        "\n",
        "4. What challenges did you face during the lab?\n",
        "\n",
        "Kept getting a UserWarning from Keras about how the input_shape was defined in the Flatten layer.\n",
        "\n",
        "The warning suggested using an Input(shape) object as the first layer in the model. The code was working fine with the warning, however this warning is an hint to start using new syntax for best practices to avoid potential issues in future versions of the library."
      ],
      "metadata": {
        "id": "IC5NROHZyQI5"
      }
    }
  ]
}