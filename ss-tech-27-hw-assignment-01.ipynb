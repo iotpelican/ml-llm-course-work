{
  "nbformat": 4,
  "nbformat_minor": 0,
  "metadata": {
    "colab": {
      "provenance": [],
      "authorship_tag": "ABX9TyNXZk9tN05MsMhfHemKK40t",
      "include_colab_link": true
    },
    "kernelspec": {
      "name": "python3",
      "display_name": "Python 3"
    },
    "language_info": {
      "name": "python"
    }
  },
  "cells": [
    {
      "cell_type": "markdown",
      "metadata": {
        "id": "view-in-github",
        "colab_type": "text"
      },
      "source": [
        "<a href=\"https://colab.research.google.com/github/iotpelican/ml-llm-course-work/blob/main/ss-tech-27-hw-assignment-01.ipynb\" target=\"_parent\"><img src=\"https://colab.research.google.com/assets/colab-badge.svg\" alt=\"Open In Colab\"/></a>"
      ]
    },
    {
      "cell_type": "markdown",
      "source": [
        "Shiva Sawant Tech 27 ML Home work Assignment 01 7/14/25"
      ],
      "metadata": {
        "id": "flCNKuTz2WkH"
      }
    },
    {
      "cell_type": "code",
      "execution_count": 7,
      "metadata": {
        "id": "hokrNW2T2Tse"
      },
      "outputs": [],
      "source": [
        "# libraries to be used across cells, import numpy and matplotlib.pyplot\n",
        "\n",
        "import numpy as np\n",
        "import matplotlib.pyplot as plt"
      ]
    },
    {
      "cell_type": "markdown",
      "source": [
        "**Learning to use numpy library**, write python code for creating arrays and displaying array & matrix contents."
      ],
      "metadata": {
        "id": "y-qAh1LvU5N8"
      }
    },
    {
      "cell_type": "code",
      "source": [
        "# Define sample arrays using numpy and print them to verify what is being generated.\n",
        "\n",
        "A = np.array([2, 4, 6])\n",
        "#Above line creates a one-dimensional numpy array named A with the elements 2, 4, and 6.\n",
        "\n",
        "B = np.arange(2, 17).reshape(3, 5)\n",
        "#Above line first creates a numpy array using np.arange() that contains a sequence of numbers starting from 2 (inclusive) up to 17 (exclusive).\n",
        "#Then, reshape(3, 5) reshapes this one-dimensional array into a two-dimensional array (a matrix) with 3 rows and 5 columns.\n",
        "#This reshaped array is named B.\n",
        "\n",
        "C = np.ones((5, 6))\n",
        "# Above line creates a numpy array named C with dimensions 5x6 (5 rows and 6 columns)\n",
        "# All elements are initialized to the value 1.\n",
        "\n",
        "D = np.eye(5)\n",
        "# Above line creates a numpy identity matrix named D with dimensions 5x5.\n",
        "# An identity matrix is a square matrix with 1s on the main diagonal and 0s elsewhere.\n",
        "\n",
        "print(\"Array A: (with 3 preassigned elements)\")\n",
        "print(A)\n",
        "print(\"\\nArray B: (with 15 elements starting from 2, and reshaped into 3 row x 5 column matrix)\")\n",
        "print(B)\n",
        "print(\"\\nArray C: (with 5 rows and 6 columns initialized to ones)\")\n",
        "print(C)\n",
        "print(\"\\nArray D: (5x5 identity matrix, square matrix with 1s in Main diagonal and 0s elsewhere)\")\n",
        "print(D)"
      ],
      "metadata": {
        "colab": {
          "base_uri": "https://localhost:8080/"
        },
        "id": "bFCOy0un4J_l",
        "outputId": "28a6d8d5-f7ad-420a-c3ac-6d8a8617f401"
      },
      "execution_count": 12,
      "outputs": [
        {
          "output_type": "stream",
          "name": "stdout",
          "text": [
            "Array A: (with 3 preassigned elements)\n",
            "[2 4 6]\n",
            "\n",
            "Array B: (with 15 elements starting from 2, and reshaped into 3 row x 5 column matrix)\n",
            "[[ 2  3  4  5  6]\n",
            " [ 7  8  9 10 11]\n",
            " [12 13 14 15 16]]\n",
            "\n",
            "Array C: (with 5 rows and 6 columns initialized to ones)\n",
            "[[1. 1. 1. 1. 1. 1.]\n",
            " [1. 1. 1. 1. 1. 1.]\n",
            " [1. 1. 1. 1. 1. 1.]\n",
            " [1. 1. 1. 1. 1. 1.]\n",
            " [1. 1. 1. 1. 1. 1.]]\n",
            "\n",
            "Array D: (5x5 identity matrix, square matrix with 1s in Main diagonal and 0s elsewhere)\n",
            "[[1. 0. 0. 0. 0.]\n",
            " [0. 1. 0. 0. 0.]\n",
            " [0. 0. 1. 0. 0.]\n",
            " [0. 0. 0. 1. 0.]\n",
            " [0. 0. 0. 0. 1.]]\n"
          ]
        }
      ]
    },
    {
      "cell_type": "markdown",
      "source": [
        "**Assignement Part 1: Working with Matrices** (20 points)\n",
        "\n",
        "Use NumPy functions to perform the following computations and display the results. Keep in mind that the * operator here refers to matrix multiplication (as commonly represented by dot notation in linear algebra). Ensure that the dimensions of the matrices are compatible before performing the operation. Print the results.\n",
        "\n",
        "1.\t5A + 2\n",
        "\n",
        "> Add blockquote\n",
        "\n",
        "\n",
        "2.\tCompute the sum of each row in matrix B.\n",
        "   Hint: Use the appropriate NumPy sum function with axis=1 to sum across columns (i.e., row-wise).\n",
        "3.\tFor each column in matrix B, calculate the average.\n",
        "   Which column has the lowest mean value?\n",
        "4.\tNumber of elements of B greater than 5\n",
        "5.\tA * B\n",
        "6.\tC + 2C\n",
        "\n",
        "\n",
        "\n",
        "\n"
      ],
      "metadata": {
        "id": "KIgzsoXi_ZQw"
      }
    },
    {
      "cell_type": "code",
      "source": [
        "# Define sample matrices A, B, and C\n",
        "# with dimensions compatible for A * B (e.g., A is m x n, B is n x p)\n",
        "A = np.array([[1, 2, 3],\n",
        "              [4, 5, 6]]) # 2x3 matrix\n",
        "\n",
        "B = np.array([[7, 8],\n",
        "              [9, 10],\n",
        "              [11, 12]]) # 3x2 matrix\n",
        "\n",
        "C = np.array([[1, 2],\n",
        "              [3, 4]]) # 2x2 matrix\n",
        "\n",
        "print(\"Matrix A:\\n\", A)\n",
        "print(\"Matrix B:\\n\", B)\n",
        "print(\"Matrix C:\\n\", C)\n",
        "print(\"-\" * 30)\n",
        "\n",
        "# 1. Compute 5A + 2\n",
        "# NumPy automatically handles element-wise operations with scalars\n",
        "result_5A_plus_2 = 5 * A + 2\n",
        "print(\"1. Result of 5A + 2:\\n\", result_5A_plus_2)\n",
        "print(\"-\" * 30)\n",
        "\n",
        "# 2. Compute the sum of each row in matrix B\n",
        "# axis=1 sums across columns, resulting in row sums\n",
        "row_sums_B = np.sum(B, axis=1)\n",
        "print(\"2. Sum of each row in matrix B:\", row_sums_B)\n",
        "print(\"-\" * 30)\n",
        "\n",
        "# 3. For each column in matrix B, calculate the average. Which column has the lowest mean value?\n",
        "# axis=0 calculates the mean down the columns\n",
        "column_means_B = np.mean(B, axis=0)\n",
        "print(\"3. Average of each column in matrix B:\", column_means_B)\n",
        "\n",
        "# Find the column with the lowest mean value\n",
        "lowest_mean_column_index = np.argmin(column_means_B)\n",
        "print(f\"   Column with the lowest mean value in B is column {lowest_mean_column_index} (0-indexed).\")\n",
        "print(\"-\" * 30)\n",
        "\n",
        "# 4. Number of elements of B greater than 5\n",
        "# This creates a boolean array, and sum() counts the True values\n",
        "elements_greater_than_5_B = np.sum(B > 5)\n",
        "print(\"4. Number of elements in B greater than 5:\", elements_greater_than_5_B)\n",
        "print(\"-\" * 30)\n",
        "\n",
        "# 5. Compute A * B (matrix multiplication)\n",
        "# Use np.dot() or the @ operator for matrix multiplication\n",
        "try:\n",
        "    if A.shape[1] == B.shape[0]:\n",
        "        result_A_times_B = np.dot(A, B)\n",
        "        # Alternatively, using the @ operator (Python 3.5+):\n",
        "        # result_A_times_B = A @ B\n",
        "        print(\"5. Result of A * B (matrix multiplication):\\n\", result_A_times_B)\n",
        "    else:\n",
        "        print(f\"5. Cannot perform A * B. Dimensions are incompatible: A is {A.shape}, B is {B.shape}\")\n",
        "except ValueError as e:\n",
        "    print(f\"5. Error performing A * B: {e}\")\n",
        "print(\"-\" * 30)\n",
        "\n",
        "# 6. Compute C + 2C\n",
        "# NumPy handles element-wise operations directly\n",
        "result_C_plus_2C = C + 2 * C\n",
        "print(\"6. Result of C + 2C:\\n\", result_C_plus_2C)\n",
        "print(\"-\" * 30)"
      ],
      "metadata": {
        "colab": {
          "base_uri": "https://localhost:8080/"
        },
        "id": "d8m3IjGx_qMV",
        "outputId": "4f64cf77-63ac-4fdf-f692-54d3bdf24235"
      },
      "execution_count": 13,
      "outputs": [
        {
          "output_type": "stream",
          "name": "stdout",
          "text": [
            "Matrix A:\n",
            " [[1 2 3]\n",
            " [4 5 6]]\n",
            "Matrix B:\n",
            " [[ 7  8]\n",
            " [ 9 10]\n",
            " [11 12]]\n",
            "Matrix C:\n",
            " [[1 2]\n",
            " [3 4]]\n",
            "------------------------------\n",
            "1. Result of 5A + 2:\n",
            " [[ 7 12 17]\n",
            " [22 27 32]]\n",
            "------------------------------\n",
            "2. Sum of each row in matrix B: [15 19 23]\n",
            "------------------------------\n",
            "3. Average of each column in matrix B: [ 9. 10.]\n",
            "   Column with the lowest mean value in B is column 0 (0-indexed).\n",
            "------------------------------\n",
            "4. Number of elements in B greater than 5: 6\n",
            "------------------------------\n",
            "5. Result of A * B (matrix multiplication):\n",
            " [[ 58  64]\n",
            " [139 154]]\n",
            "------------------------------\n",
            "6. Result of C + 2C:\n",
            " [[ 3  6]\n",
            " [ 9 12]]\n",
            "------------------------------\n"
          ]
        }
      ]
    },
    {
      "cell_type": "markdown",
      "source": [
        "Imported example code from assignement file to **generate artificial data and plot to visualize the data**"
      ],
      "metadata": {
        "id": "XJ0eqZpSWyX7"
      }
    },
    {
      "cell_type": "code",
      "source": [
        "import numpy as np\n",
        "import matplotlib.pyplot as plt\n",
        "\n",
        "def create_1d_data(num_examples=10, w=2, b=1, random_scale=1):\n",
        "  \"\"\"Generate 1D input-output data with a linear relationship plus noise.\n",
        "\n",
        "  Args:\n",
        "        num_examples (int): Number of data points to generate.\n",
        "        w (float): Slope of the linear function.\n",
        "        b (float): Intercept of the linear function.\n",
        "        random_scale (float): Range for uniform noise added to outputs, between -random_scale and +random_scale.\n",
        "\n",
        "    Returns:\n",
        "        tuple: Arrays X and Y of shape (num_examples,) representing inputs and noisy linear outputs.\n",
        "  \"\"\"\n",
        "  X = np.arange(num_examples)\n",
        "  np.random.seed(4)  # for reproducible results\n",
        "  noise = np.random.uniform(-random_scale, random_scale, size=X.shape)\n",
        "  Y = b + w * X + noise\n",
        "  return X, Y\n",
        "\n",
        "# Generate artificial data using the create_1d_data function\n",
        "X, Y = create_1d_data()\n",
        "\n",
        "# Visualize the data points with a scatter plot\n",
        "plt.scatter(X, Y)\n",
        "plt.show()"
      ],
      "metadata": {
        "colab": {
          "base_uri": "https://localhost:8080/",
          "height": 430
        },
        "id": "cMP4J0wRXS8M",
        "outputId": "55d420e9-2e11-4b62-ac8a-c12e18aeb9bd"
      },
      "execution_count": 12,
      "outputs": [
        {
          "output_type": "display_data",
          "data": {
            "text/plain": [
              "<Figure size 640x480 with 1 Axes>"
            ],
            "image/png": "[encoded data removed]"
          },
          "metadata": {}
        }
      ]
    },
    {
      "cell_type": "markdown",
      "source": [
        "**Part 2: Modeling and Predictions (20 points)**\n",
        "\n",
        "A model is a mathematical function that takes an input value x and produces a predicted output y^.\n",
        "\n",
        "Let's consider two possible models for this data:\n",
        "1.\tM1(x)=3x+2\n",
        "2.\tM2(x)=−0.5x+4\n",
        "\n",
        "Calculate the predictions of these models of M1 and M2 for the values in X. These predictions should be vectors with the same shape as Y. Then, plot the observed data points (X,Y) along with the prediction lines of both models on the same graph. Use plt.plot() to draw the prediction lines for both models. Note: All elements (data points and prediction lines) should appear on a single plot. Be sure to include axis labels, a title, and a legend to clearly distinguish the models."
      ],
      "metadata": {
        "id": "o_irzUEbFCEc"
      }
    },
    {
      "cell_type": "code",
      "source": [
        "# 1. Define sample input values X and observed output values Y\n",
        "# Create a range of x values for plotting the models to ensure smooth lines\n",
        "X = np.array([1, 2, 3, 4, 5, 6, 7, 8, 9, 10])\n",
        "Y = np.array([5, 8, 10, 15, 17, 20, 22, 25, 28, 30])\n",
        "\n",
        "# Create a more granular x range for plotting the model lines\n",
        "x_model = np.linspace(min(X), max(X), 100)\n",
        "\n",
        "# 2. Define the two models\n",
        "def M1(x):\n",
        "    return 3 * x + 2\n",
        "\n",
        "def M2(x):\n",
        "    return -0.5 * x + 4\n",
        "\n",
        "# 3. Calculate the predictions of these models for the values in x_model\n",
        "y_pred_M1 = M1(x_model)\n",
        "y_pred_M2 = M2(x_model)\n",
        "\n",
        "# Calculate predictions for observed X values to show where they fall\n",
        "y_pred_M1_observed = M1(X)\n",
        "y_pred_M2_observed = M2(X)\n",
        "\n",
        "# 4. Plot the observed data points (X,Y)\n",
        "plt.figure(figsize=(10, 6))\n",
        "plt.scatter(X, Y, color='blue', label='Observed Data (X, Y)')\n",
        "\n",
        "# 5. Plot the prediction lines for both models\n",
        "plt.plot(x_model, y_pred_M1, color='red', linestyle='-', label='Model M1: $M1(x) = 3x + 2$')\n",
        "plt.plot(x_model, y_pred_M2, color='green', linestyle='--', label='Model M2: $M2(x) = -0.5x + 4$')\n",
        "\n",
        "# 6. Add axis labels, a title, and a legend\n",
        "plt.xlabel('X (Input Value)')\n",
        "plt.ylabel('Y (Output Value)')\n",
        "plt.title('Observed Data and Model Predictions')\n",
        "plt.legend()\n",
        "plt.grid(True)\n",
        "plt.tight_layout()\n",
        "plt.savefig('model_predictions_plot.png')"
      ],
      "metadata": {
        "colab": {
          "base_uri": "https://localhost:8080/",
          "height": 607
        },
        "id": "HX5XmnvvFAvt",
        "outputId": "4052de5a-af3a-4b24-dffb-08de3665e7de"
      },
      "execution_count": 14,
      "outputs": [
        {
          "output_type": "display_data",
          "data": {
            "text/plain": [
              "<Figure size 1000x600 with 1 Axes>"
            ],
            "image/png": "[encoded data removed]"
          },
          "metadata": {}
        }
      ]
    },
    {
      "cell_type": "markdown",
      "source": [
        "**Part 3: Measuring Error Using Mean Squared Error** (20 points)\n",
        "\n",
        "Create a function that calculates the Mean Squared Error (MSE). Use this function to compute the MSE for the two models M1 and M2 introduced earlier."
      ],
      "metadata": {
        "id": "UnyVIuVsGKhD"
      }
    },
    {
      "cell_type": "code",
      "source": [
        "# Define sample input values X and observed output values Y\n",
        "# These are the same X and Y used in the plotting exercise.\n",
        "X = np.array([1, 2, 3, 4, 5, 6, 7, 8, 9, 10])\n",
        "Y = np.array([5, 8, 10, 15, 17, 20, 22, 25, 28, 30])\n",
        "\n",
        "# Define the two models (re-using from previous turns)\n",
        "def M1(x):\n",
        "    return 3 * x + 2\n",
        "\n",
        "def M2(x):\n",
        "    return -0.5 * x + 4\n",
        "\n",
        "def MSE(observed_Y, predicted_Y):\n",
        "    \"\"\"\n",
        "    Calculates the Mean Squared Error (MSE) between observed and predicted values.\n",
        "\n",
        "    Args:\n",
        "        observed_Y (numpy.ndarray): Array of observed actual values.\n",
        "        predicted_Y (numpy.ndarray): Array of predicted values from a model.\n",
        "\n",
        "    Returns:\n",
        "        float: The Mean Squared Error.\n",
        "    \"\"\"\n",
        "    # Ensure the input arrays have the same shape\n",
        "    if observed_Y.shape != predicted_Y.shape:\n",
        "        raise ValueError(\"Observed and predicted Y arrays must have the same shape.\")\n",
        "\n",
        "    # Calculate the squared differences\n",
        "    squared_differences = (observed_Y - predicted_Y) ** 2\n",
        "\n",
        "    # Calculate the mean of the squared differences\n",
        "    mse = np.mean(squared_differences)\n",
        "    return mse\n",
        "\n",
        "# Calculate predictions for M1 and M2 using the actual X values\n",
        "predictions_M1 = M1(X)\n",
        "predictions_M2 = M2(X)\n",
        "\n",
        "# Compute MSE for M1\n",
        "mse_M1 = MSE(Y, predictions_M1)\n",
        "print(f\"Mean Squared Error for Model M1: {mse_M1:.2f}\")\n",
        "\n",
        "# Compute MSE for M2\n",
        "mse_M2 = MSE(Y, predictions_M2)\n",
        "print(f\"Mean Squared Error for Model M2: {mse_M2:.2f}\")"
      ],
      "metadata": {
        "colab": {
          "base_uri": "https://localhost:8080/"
        },
        "id": "08iVtleFGp7L",
        "outputId": "f46bc381-406e-4520-995c-cb0270891e9a"
      },
      "execution_count": 13,
      "outputs": [
        {
          "output_type": "stream",
          "name": "stdout",
          "text": [
            "Mean Squared Error for Model M1: 0.90\n",
            "Mean Squared Error for Model M2: 371.43\n"
          ]
        }
      ]
    },
    {
      "cell_type": "markdown",
      "source": [
        "**Model Generation and ploting example python code from Assignment file**"
      ],
      "metadata": {
        "id": "8amQWzT7eR6o"
      }
    },
    {
      "cell_type": "code",
      "source": [
        "# Fit an 8-th degree polynomial to (X, Y).\n",
        "# Refer to np.polyfit documentation for more details\n",
        "polynomial_model_coefficients = np.polyfit(X, Y, deg=8)\n",
        "polynomial_model = np.poly1d(polynomial_model_coefficients)\n",
        "\n",
        "# Generate predictions using the polynomial model\n",
        "M3 = polynomial_model(X)\n",
        "\n",
        "# Plot the original data points\n",
        "plt.scatter(X, Y, label='Observed Data')\n",
        "\n",
        "# Plot the polynomial model's prediction curve\n",
        "plt.plot(X, M3, '-k', label='8th Degree Polynomial Fit')\n",
        "\n",
        "# Add title, labels, and legend\n",
        "plt.title('Polynomial Model Fit to Data')\n",
        "plt.xlabel('X')\n",
        "plt.ylabel('Y')\n",
        "plt.legend()\n",
        "plt.show()\n",
        "\n",
        "# Compute and print the Mean Squared Error for the polynomial model\n",
        "print('MSE for Model M3:', MSE(Y, M3))"
      ],
      "metadata": {
        "id": "bTwz_0wBed23",
        "outputId": "598aca71-e13f-46a3-927f-f67095d5582f",
        "colab": {
          "base_uri": "https://localhost:8080/",
          "height": 489
        }
      },
      "execution_count": 21,
      "outputs": [
        {
          "output_type": "display_data",
          "data": {
            "text/plain": [
              "<Figure size 640x480 with 1 Axes>"
            ],
            "image/png": "[encoded data removed]"
          },
          "metadata": {}
        },
        {
          "output_type": "stream",
          "name": "stdout",
          "text": [
            "MSE for Model M3: 0.06298848210600763\n"
          ]
        }
      ]
    },
    {
      "cell_type": "markdown",
      "source": [
        "**Part 4: Testing Model Generality**  (20 points)\n",
        "\n",
        "Do you expect model M3 to perform better than M2 when predicting labels for new, unseen inputs?\n",
        "\n",
        "Discuss the potential advantages and disadvantages of using a more complex model like M3."
      ],
      "metadata": {
        "id": "6_IWLKJZIdI6"
      }
    },
    {
      "cell_type": "markdown",
      "source": [
        "**Answer for Part 4:**\n",
        "\n",
        "Model M3 is an 8th-degree polynomial fitted to the (X, Y) data.\n",
        "\n",
        "Model M2 is univariate linear regression model\n",
        "\n",
        "* MSE for Model M1: 0.90\n",
        "* MSE for Model M2: 371.43\n",
        "* MSE for Model M3: 0.06298848210600763\n",
        "\n",
        "Based on the graphs above:\n",
        "\n",
        "* Model M1 fits well in correct direction. Model M1, a simple linear model with a very low MSE (0.90), suggesting that the underlying relationship in the data is predominantly linear.\n",
        "\n",
        "* M2 has high bias, and is in opposite direction, and has high MSE. M2 is consistently bad due to its poor initial fit (high bias).\n",
        "\n",
        "* M3 seems over fitted, It suffers from high variance and very low MSE.\n",
        "    Reason: 8th-degree polynomial fitted to only 10 data points (as X has 10 elements) will essentially pass exactly through or extremely close to every single training data point.\n",
        "    \n",
        "    The highly flexible polynomial will likely make wildly inaccurate predictions outside the range of the training data (extrapolation) and even potentially within the range if the new points don't precisely follow the learned \"noise\" from the training set.\n",
        "\n",
        "**Performance on predicting with unseen data:**\n",
        "* Model M3 would perform significantly worse than Model M1.\n",
        "* Model M3 is likely worse than Model M2 when predicting labels for new, unseen inputs, despite its potentially near-zero MSE on the training data.\n",
        "* For unseen data, M3's predictions could be far more erratic and misleading than M2's, even though M2 is \"consistently wrong.\"\n",
        "\n",
        "\n",
        "\n",
        "**Potential Advantages and Disadvantages of Using a More Complex Model** like M3\n",
        "\n",
        "*Advantages*:\n",
        "\n",
        "* Ability to Capture Complex Relationships: If the true underlying relationship between X and Y were genuinely a complex, non-linear function (e.g., an S-curve, multiple peaks and valleys), a more complex model like a high-degree polynomial would be necessary to capture that intricacy. Simpler models (like linear) would fail.\n",
        "* Lower Bias on Training Data: Complex models generally have the capacity to fit the training data very closely, leading to very low training error (bias). As seen with M3, its training MSE would be near zero.\n",
        "\n",
        "*Disadvantages*:\n",
        "\n",
        "* High Risk of Overfitting (Most Significant for M3): This is the primary drawback here. A complex model with too few data points or when applied to a fundamentally simpler relationship will memorize the training data, including its noise and random fluctuations. This leads to very poor performance on new, unseen data.\n",
        "* Poor Generalization: Due to overfitting, complex models often do not generalize well to data outside of what they were trained on. They essentially \"fail to learn\" the broader patterns.\n",
        "* Increased Computational Cost: Training and evaluating more complex models typically requires significantly more computational resources (time and memory) compared to simpler models.\n",
        "* Lack of Interpretability: Simple models like linear regression are easy to interpret (e.g., \"Y increases by 3 units for every 1 unit increase in X\"). High-degree polynomials are much harder to interpret in a meaningful way, making it difficult to understand the underlying drivers of the predictions.\n",
        "* Sensitivity to Outliers: Complex models can be highly sensitive to outliers in the training data, as they will try to fit every point, including anomalous ones, which can drastically warp the model's behavior.\n",
        "* Requires More Data: To prevent overfitting and effectively learn complex patterns, more complex models typically require a significantly larger amount of diverse training data. With only 10 points, M3 is severely under-constrained for an 8th-degree polynomial.\n",
        "\n",
        "Complex models are powerful forcomplex relationships, however their use must be justified by the nature of the data and sufficient training examples. In this scenario, M3 is likely a poor choice due to severe overfitting.\n"
      ],
      "metadata": {
        "id": "Mn7e7o49LPu8"
      }
    },
    {
      "cell_type": "markdown",
      "source": [
        "**Part 5: Model Complexity and Real-World Considerations** (20 points)\n",
        "\n",
        "\n",
        "\n"
      ],
      "metadata": {
        "id": "12LVovPGLxsL"
      }
    },
    {
      "cell_type": "markdown",
      "source": [
        "**Question 5-A:** If we increase the degree of the polynomial model beyond 8, what do you expect will happen to the Mean Squared Error (MSE) and the model’s ability to generalize to new data? Justify your answer using intuition or experience with model complexity.\n",
        "\n",
        "**Answer 5-A:**\n",
        "Typical impacts of increasing the degree of a polynomial model beyond 8 are:\n",
        "\n",
        "* Mean Squared Error (MSE) on Training Data decreases. A higher-degree polynomial can fit the training data more closely, potentially capturing almost all data points. It may even overfit the noise in the training set.\n",
        "\n",
        "* MSE on Validation/Test Data (Generalization) increases. As the model becomes more complex, it starts to model the noise in the training data rather than the underlying pattern.\n",
        "\n",
        "This leads to overfitting, where the model performs well on training data but poorly on unseen (test) data.\n",
        "\n",
        "*Justification*:\n",
        "* A polynomial with degree >8 will have more flexibility (more terms), which increases model variance.\n",
        "* High-variance models are sensitive to small changes in the data, which makes them less robust to new inputs.\n",
        "\n",
        "* Bias-variance trade-off: As degree increases,\n",
        "\n",
        "    Bias decreases (more flexible fit)\n",
        "\n",
        "    Variance increases (more sensitive to data)\n",
        "\n",
        "* Overall generalization error (MSE on new data) can increase after a certain point.\n",
        "\n",
        "* To fit a curve through 10 scattered data points:\n",
        "\n",
        "    2 or 3 degree polynomial may capture the trend well.\n",
        "\n",
        "    15 degree polynomial may zig-zag to pass through each point, and can oscillate  between points leading to overfitting.\n",
        "\n"
      ],
      "metadata": {
        "id": "PExC6MK722NX"
      }
    },
    {
      "cell_type": "markdown",
      "source": [
        "**Question 5-B:** Suppose your data came from real-world sources such as sensors, user-generated content, or financial transactions. How might this noise affect your model’s behavior? Would your choice of model or preprocessing steps change?\n",
        "\n",
        "**Answer 5-B**\n",
        "Data from real-world sources contains noise—random errors, inconsistencies, or outliers due to various uncontrolled factors.\n",
        "\n",
        "Noise impacts on Model Behavior can:\n",
        "* Increase Overfitting Risk : Complex models (like high-degree polynomials or deep neural networks) may try to fit this noise instead of learning the true underlying pattern. This reduces generalization to new data.\n",
        "\n",
        "* Reduce Accuracy & Stability: Noisy inputs can cause unpredictable or erratic outputs, in models that are highly sensitive to small variations.\n",
        "\n",
        "* Spurious Correlations: Noise can introduce false relationships, causing the model to learn misleading patterns.\n",
        "\n",
        "* Inflate Error Metrics: Noise increases the Mean Squared Error (MSE) and other performance metrics, making model evaluation more difficult.\n",
        "\n",
        "Considerations for choosing the model and preprocessing steps:\n",
        "* Data Preprocessing steps:\n",
        "\n",
        "    Outlier Removal / Clipping\n",
        "\n",
        "    Smoothing for sensor data (e.g., moving averages, Kalman filters)\n",
        "\n",
        "    Noise filtering (e.g., low-pass filters for time-series)\n",
        "\n",
        "    Imputation for missing/corrupt values\n",
        "\n",
        "    Normalization or scaling to reduce the impact of erratic ranges\n",
        "\n",
        "* Model choice:\n",
        "\n",
        "    Prefer simpler models (e.g., linear regression, regularized models) to reduce variance.\n",
        "\n",
        "    Prevent overfitting by using regularization techniques.\n"
      ],
      "metadata": {
        "id": "9esqCjUdNjb6"
      }
    },
    {
      "cell_type": "markdown",
      "source": [
        "**Question 5-C:** MSE is commonly used for evaluating regression models. However, it may not always be the most appropriate metric. Provide a real-world scenario where MSE might be misleading. Suggest a more suitable evaluation metric for that case and explain why it would be a better choice.\n",
        "\n",
        "**Answer 5-C:** Mean Squared Error (MSE) can be misleading for predicting housing prices in a diverse market, where the price ranges in different catagories can be extremly different like:\n",
        "\n",
        "* High-end homes worth $2M+\n",
        "\n",
        "* Mid-tier homes around $500K\n",
        "\n",
        "* Low-income housing around $100K\n",
        "\n",
        "MSE can be misleading because it impacts large errors quadratically, so large deviations matter much more. e.g.A 100K prediction error for a 2M home vs. a 100K home is treated equally in  MSE terms, which are very different in practical terms. The model might optimize for minimizing errors on expensive homes and perform poorly on the majority of lower-priced homes.\n",
        "\n",
        "In such situations, the Mean Absolute Percentage Error (MAPE) is a preferred evaluation metric. MAPE evaluates relative error, not absolute error. e.g. A 10K error on a 100K home (10%) is treated the same as a 200K error on a 2M home (also 10%). MAPE helps balance the importance of predictions across a range of target values, makes it easier for stakeholders to interpret, typically model is off by 12% on average.\n",
        "\n"
      ],
      "metadata": {
        "id": "UT90-16nNs6N"
      }
    }
  ]
}