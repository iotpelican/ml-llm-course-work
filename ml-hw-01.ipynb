{
 "cells": [
  {
   "cell_type": "markdown",
   "metadata": {
    "id": "rHLcriKWLRe4"
   },
   "source": [
    "# Assignment 01 - Machine Learning Basics and Data Preaparation"
   ]
  },
  {
   "cell_type": "markdown",
   "metadata": {},
   "source": [
    "### <span style=\"color:maroon\"> Assignment Submission Instructions </span>\n",
    "\n",
    "Please note that your homework won’t be graded if your notebook doesn’t include the output. Before submitting to Gradescope, make sure to run all the cells so that the output is visible. If you're using Google Colab: Go to Edit > Notebook settings and uncheck the box that says “Omit code cell output when saving,” otherwise your output won’t be saved.Points may also be taken off if these guidelines aren’t followed.\n",
    "    \n",
    "Make sure to comment your code so others can easily understand what it does. Each graph should include a title, axis labels, and a legend if necessary. The goal is for each graph to be clear and understandable on its own. Try to avoid using the global namespace too much—it's best to keep your code organized inside functions whenever possible. When you're done, upload your .ipynb file to Canvas."
   ]
  },
  {
   "cell_type": "code",
   "execution_count": 24,
   "metadata": {
    "id": "7X58hOMTUH-w"
   },
   "outputs": [],
   "source": [
    "# Import the libraries we'll use below.\n",
    "import numpy as np\n",
    "import matplotlib.pyplot as plt"
   ]
  },
  {
   "cell_type": "markdown",
   "metadata": {
    "id": "0nNOD-Z7SzAq"
   },
   "source": [
    "## Data Represented as matrices\n",
    "Data is often organized in matrix form. The Python NumPy library provides powerful tools to efficiently create and manipulate these matrices. See the [Numpy Tutorial](https://docs.scipy.org/doc/numpy/user/quickstart.html) for details."
   ]
  },
  {
   "cell_type": "code",
   "execution_count": 25,
   "metadata": {
    "id": "KWlmuAMwTZ3P"
   },
   "outputs": [],
   "source": [
    "# Print these to make sure you understand what is being generated.\n",
    "A = np.array([2, 4, 6])\n",
    "B = np.arange(2, 17).reshape(3, 5)\n",
    "C = np.ones((5, 6))\n",
    "D = np.eye(5)"
   ]
  },
  {
   "cell_type": "markdown",
   "metadata": {
    "id": "T4wvvzKoUIAN"
   },
   "source": [
    "---\n",
    "### Part 1: Working with Matrices (20 points)"
   ]
  },
  {
   "cell_type": "markdown",
   "metadata": {},
   "source": [
    "Use NumPy functions to perform the following computations and display the results. Keep in mind that the * operator here refers to matrix multiplication (as commonly represented by dot notation in linear algebra). Ensure that the dimensions of the matrices are compatible before performing the operation. <span style=\"color:maroon\">Print</span> the results. \n",
    "1. 5A + 2\n",
    "2. Compute the sum of each row in matrix B. Hint: Use the appropriate NumPy sum function with axis=1 to sum across columns (i.e., row-wise).\n",
    "3.For each column in matrix B, calculate the average. Which column has the lowest mean value?\n",
    "4. Number of elements of B greater than 5\n",
    "5. A * B\n",
    "5. C + 2C"
   ]
  },
  {
   "cell_type": "code",
   "execution_count": 26,
   "metadata": {
    "id": "HJtwrjdO6TbS"
   },
   "outputs": [],
   "source": [
    "# YOUR CODE HERE"
   ]
  },
  {
   "cell_type": "markdown",
   "metadata": {},
   "source": [
    "---"
   ]
  },
  {
   "cell_type": "markdown",
   "metadata": {
    "id": "xbCRG2-uUKCT"
   },
   "source": [
    "## Supervised Learning Data Overview\n",
    "Supervised learning focuses on making predictions: given an input $x$ (for example, the number of hours a student studies), can we predict an output $\\hat{y}$ (such as their expected exam score) that is as close as possible to the true observed output $y$ (like the actual sale price)? Note that the \"hat\" above $y$ indicates an estimated or predicted value.\n",
    "\n",
    "To begin, let’s generate some artificial data. We’ll create a vector of inputs $X$, along with a corresponding vector of target outputs $Y$. In general, lowercase letters ($x$) denote individual examples, and uppercase examples ($X$)represent vectors or matrices containing multiple examples.\n"
   ]
  },
  {
   "cell_type": "code",
   "execution_count": 27,
   "metadata": {
    "id": "Ulmn_bFdU87t"
   },
   "outputs": [],
   "source": [
    "def create_1d_data(num_examples=10, w=2, b=1, random_scale=1):\n",
    "  \"\"\"Generate 1D input-output data with a linear relationship plus noise.\n",
    "\n",
    "  Args:\n",
    "        num_examples (int): Number of data points to generate.\n",
    "        w (float): Slope of the linear function.\n",
    "        b (float): Intercept of the linear function.\n",
    "        random_scale (float): Range for uniform noise added to outputs, between -random_scale and +random_scale.\n",
    "\n",
    "    Returns:\n",
    "        tuple: Arrays X and Y of shape (num_examples,) representing inputs and noisy linear outputs.\n",
    "  \"\"\"\n",
    "  X = np.arange(num_examples)\n",
    "  np.random.seed(4)  # for reproducible results\n",
    "  noise = np.random.uniform(-random_scale, random_scale, size=X.shape)\n",
    "  Y = b + w * X + noise\n",
    "  return X, Y"
   ]
  },
  {
   "cell_type": "code",
   "execution_count": 28,
   "metadata": {
    "id": "6qJg0IiYVJ8U"
   },
   "outputs": [],
   "source": [
    "# # Generate artificial data using the create_1d_data function\n",
    "X, Y = create_1d_data()\n",
    "\n",
    "# Visualize the data points with a scatter plot\n",
    "#plt.scatter(X, Y)\n",
    "#plt.show()"
   ]
  },
  {
   "cell_type": "markdown",
   "metadata": {
    "id": "W6coKbXSpXOz"
   },
   "source": [
    "---\n",
    "### Part 2: Modeling and Predictions (20 points)"
   ]
  },
  {
   "cell_type": "markdown",
   "metadata": {},
   "source": [
    "A model is a mathematical function that takes an input value $x$ and produces a predicted output $\\hat{y}$.\n",
    "\n",
    "Let's consider two possible models for this data:\n",
    "1. $M_1(x) = 3x+2$ \n",
    "2. $M_2(x) = -0.5x+4$\n",
    "\n",
    "Calculate the predictions of these models of $M_1$ and $M_2$ for the values in $X$. These predictions should be vectors with the same shape as $Y$. Then, plot the observed data points $(X, Y)$ along with the prediction lines of both models on the same graph. Use [plt.plot()](https://matplotlib.org/api/_as_gen/matplotlib.pyplot.plot.html) to draw the prediction lines for both models. Note: All elements (data points and prediction lines) should appear on a single plot.\n",
    "Be sure to include axis labels, a title, and a legend to clearly distinguish the models.\n"
   ]
  },
  {
   "cell_type": "code",
   "execution_count": 17,
   "metadata": {
    "id": "AHIY5kNXUIAP"
   },
   "outputs": [],
   "source": [
    "# YOUR CODE HERE"
   ]
  },
  {
   "cell_type": "markdown",
   "metadata": {},
   "source": [
    "---"
   ]
  },
  {
   "cell_type": "markdown",
   "metadata": {
    "id": "NH-0soZiWx9x"
   },
   "source": [
    "## Measuring Model Performance\n",
    "\n",
    "How well do our models perform? Intuitively, a better model fits the data more closely. For each input $x$, we compare the true value $y$, with the predicted value $\\hat{y}$. This difference is often called the loss or error. One common way to measure this error is the squared error: $(y-\\hat{y})^2$. By averaging this quantity over all data points, we obtain the mean squared error (MSE):\n",
    "\n",
    "\\begin{equation}\n",
    "\\textit{MSE} = \\frac{1}{n} \\sum_{y_i \\in Y}(y_i - \\hat{y}_i)^2\n",
    "\\end{equation}"
   ]
  },
  {
   "cell_type": "markdown",
   "metadata": {
    "id": "_AyY2DpxYLI0"
   },
   "source": [
    "---\n",
    "### Part 3: Measuring Error Using Mean Squared Error (20 points)"
   ]
  },
  {
   "cell_type": "markdown",
   "metadata": {},
   "source": [
    "Create a function that calculates the Mean Squared Error (MSE). Use this function to compute the MSE for the two models $M_1$ and $M_2$ introduced earlier."
   ]
  },
  {
   "cell_type": "code",
   "execution_count": 18,
   "metadata": {
    "id": "uCeAfI5mW9sg"
   },
   "outputs": [],
   "source": [
    "def MSE(true_values, predicted_values):\n",
    " \"\"\"\n",
    "    Calculate and return the Mean Squared Error (MSE) between the true values and predicted values.\n",
    "\n",
    "    Args:\n",
    "        true_values (array-like): The actual observed values.\n",
    "        predicted_values (array-like): The predicted values from the model.\n",
    "\n",
    "    Returns:\n",
    "        float: The mean squared error between true_values and predicted_values.\n",
    "    \"\"\"\n",
    "    # YOUR CODE HERE"
   ]
  },
  {
   "cell_type": "code",
   "execution_count": 20,
   "metadata": {
    "id": "uF-x9DI2ZOKq"
   },
   "outputs": [],
   "source": [
    "#print('Mean Squared Error for Model M1:', MSE(Y, M1))\n",
    "#print('Mean Squared Error for Model M2:', MSE(Y, M2))"
   ]
  },
  {
   "cell_type": "markdown",
   "metadata": {},
   "source": [
    "---"
   ]
  },
  {
   "cell_type": "markdown",
   "metadata": {
    "id": "eDiy3OZwZlwj"
   },
   "source": [
    "## Out of Sample Performance - Model Generalization\n",
    "\n",
    "Our datase $(X, Y)$ is only a small sample of the full range of possible input-output pairs we might encounter. A model is valuable only if it can generalize well—that is, make accurate predictions on new, unseen inputs.\n",
    "Below is a more complex model that seems to achieve a significantly lower mean squared error on this data."
   ]
  },
  {
   "cell_type": "code",
   "execution_count": 21,
   "metadata": {
    "id": "ns1siZ9DZvSY"
   },
   "outputs": [
    {
     "data": {
      "image/png": "[encoded data removed]",
      "text/plain": [
       "<Figure size 432x288 with 1 Axes>"
      ]
     },
     "metadata": {
      "needs_background": "light"
     },
     "output_type": "display_data"
    },
    {
     "name": "stdout",
     "output_type": "stream",
     "text": [
      "MSE for Model M3: None\n"
     ]
    }
   ],
   "source": [
    "# Fit an 8-th degree polynomial to (X, Y). \n",
    "# Refer to np.polyfit documentation for more details\n",
    "polynomial_model_coefficients = np.polyfit(X, Y, deg=8)\n",
    "polynomial_model = np.poly1d(polynomial_model_coefficients)\n",
    "\n",
    "# Generate predictions using the polynomial model\n",
    "M3 = polynomial_model(X)\n",
    "\n",
    "# Plot the original data points\n",
    "#plt.scatter(X, Y, label='Observed Data')\n",
    "\n",
    "# Plot the polynomial model's prediction curve\n",
    "#plt.plot(X, M3, '-k', label='8th Degree Polynomial Fit')\n",
    "\n",
    "# Add title, labels, and legend\n",
    "#plt.title('Polynomial Model Fit to Data')\n",
    "#plt.xlabel('X')\n",
    "#plt.ylabel('Y')\n",
    "#plt.legend()\n",
    "#plt.show()\n",
    "\n",
    "# Compute and print the Mean Squared Error for the polynomial model\n",
    "#print('MSE for Model M3:', MSE(Y, M3))"
   ]
  },
  {
   "cell_type": "markdown",
   "metadata": {
    "id": "M2m9YmLMZ1EV"
   },
   "source": [
    "---\n",
    "### Part 4: Testing Model Generality (20 points)"
   ]
  },
  {
   "cell_type": "markdown",
   "metadata": {},
   "source": [
    "Do you expect model  $M_3$ to perform better than $M_2$ when predicting labels for new, unseen inputs? Discuss the potential advantages and disadvantages of using a more complex model like $M_3$."
   ]
  },
  {
   "cell_type": "markdown",
   "metadata": {
    "id": "h0Zpx79_aQEC"
   },
   "source": [
    "*Your answer:*"
   ]
  },
  {
   "cell_type": "markdown",
   "metadata": {
    "id": "j9EH9D7Faf9n"
   },
   "source": [
    "---"
   ]
  },
  {
   "cell_type": "markdown",
   "metadata": {
    "id": "6hIdZHngdrET"
   },
   "source": [
    "### Part 5: Model Complexity and Real-World Considerations (20 points)"
   ]
  },
  {
   "cell_type": "markdown",
   "metadata": {},
   "source": [
    "If we increase the degree of the polynomial model beyond 8, what do you expect will happen to the Mean Squared Error (MSE) and the model’s ability to generalize to new data? Justify your answer using intuition or experience with model complexity."
   ]
  },
  {
   "cell_type": "markdown",
   "metadata": {
    "id": "h0Zpx79_aQEC"
   },
   "source": [
    "*Your answer:*"
   ]
  },
  {
   "cell_type": "markdown",
   "metadata": {},
   "source": [
    "Suppose your data came from real-world sources such as sensors, user-generated content, or financial transactions. How might this noise affect your model’s behavior? Would your choice of model or preprocessing steps change?"
   ]
  },
  {
   "cell_type": "markdown",
   "metadata": {
    "id": "h0Zpx79_aQEC"
   },
   "source": [
    "*Your answer:*"
   ]
  },
  {
   "cell_type": "markdown",
   "metadata": {},
   "source": [
    "MSE is commonly used for evaluating regression models. However, it may not always be the most appropriate metric. Provide a real-world scenario where MSE might be misleading. Suggest a more suitable evaluation metric for that case and explain why it would be a better choice."
   ]
  },
  {
   "cell_type": "markdown",
   "metadata": {
    "id": "h0Zpx79_aQEC"
   },
   "source": [
    "*Your answer:*"
   ]
  }
 ],
 "metadata": {
  "accelerator": "GPU",
  "colab": {
   "collapsed_sections": [
    "copyright",
    "xxOhpvdW6TbX",
    "exercise-1-key-1",
    "43ZTSJEc526U",
    "exercise-5-key-1",
    "ubHispCAA_5u",
    "exercise-6-key-1",
    "5p1IvWjfEjqm",
    "exercise-9-key-1"
   ],
   "name": "01 Introduction.ipynb",
   "private_outputs": true,
   "provenance": []
  },
  "kernelspec": {
   "display_name": "Python 3 (ipykernel)",
   "language": "python",
   "name": "python3"
  },
  "language_info": {
   "codemirror_mode": {
    "name": "ipython",
    "version": 3
   },
   "file_extension": ".py",
   "mimetype": "text/x-python",
   "name": "python",
   "nbconvert_exporter": "python",
   "pygments_lexer": "ipython3",
   "version": "3.9.2"
  }
 },
 "nbformat": 4,
 "nbformat_minor": 4
}
